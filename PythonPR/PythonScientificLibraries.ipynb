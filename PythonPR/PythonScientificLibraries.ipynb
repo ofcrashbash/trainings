{
 "nbformat": 4,
 "nbformat_minor": 2,
 "metadata": {
  "language_info": {
   "name": "python",
   "codemirror_mode": {
    "name": "ipython",
    "version": 3
   },
   "version": "3.7.4"
  },
  "orig_nbformat": 2,
  "file_extension": ".py",
  "mimetype": "text/x-python",
  "name": "python",
  "npconvert_exporter": "python",
  "pygments_lexer": "ipython3",
  "version": 3
 },
 "cells": [
  {
   "cell_type": "markdown",
   "execution_count": null,
   "metadata": {},
   "outputs": [],
   "source": [
    "# Наукові бібліотеки Пайтона\n",
    "\n",
    "[джерело](https://stxnext.com/blog/2018/09/20/most-popular-python-scientific-libraries/)\n",
    "\n",
    "Головними з яких будуть(посортовані по пріоритету):\n",
    "\n",
    "+ [NumPy](https://numpy.org/)\n",
    "+ [matplotlib](https://matplotlib.org/)\n",
    "+ [SciPy](https://www.scipy.org/)\n",
    "+ [Pandas](https://pandas.pydata.org/)\n",
    "+ [pytest](https://docs.pytest.org/en/latest/)\n",
    "+ [IPython](https://ipython.org/)\n",
    "\n",
    "Додаткові:\n",
    "\n",
    "+ [Keras](http://keras.io/)\n",
    "+ [SymPy](https://www.sympy.org/)\n",
    "+ [Cirq](https://github.com/quantumlib/Cirq)\n",
    "+ [TensorFlow](https://www.tensorflow.org/)"
   ]
  },
  {
   "cell_type": "markdown",
   "execution_count": null,
   "metadata": {},
   "outputs": [],
   "source": [
    "## NumPy"
   ]
  },
  {
   "cell_type": "markdown",
   "execution_count": null,
   "metadata": {},
   "outputs": [],
   "source": [
    "### Основи"
   ]
  },
  {
   "cell_type": "code",
   "execution_count": 1,
   "metadata": {},
   "outputs": [],
   "source": [
    "import numpy as np"
   ]
  },
  {
   "cell_type": "code",
   "execution_count": 5,
   "metadata": {},
   "outputs": [
    {
     "data": {
      "text/plain": "array([[ 0,  1,  2,  3,  4],\n       [ 5,  6,  7,  8,  9],\n       [10, 11, 12, 13, 14]])"
     },
     "execution_count": 5,
     "metadata": {},
     "output_type": "execute_result"
    }
   ],
   "source": [
    "a = np.arange(15).reshape(3, 5)\n",
    "a"
   ]
  },
  {
   "cell_type": "code",
   "execution_count": 6,
   "metadata": {},
   "outputs": [
    {
     "data": {
      "text/plain": "(3, 5)"
     },
     "execution_count": 6,
     "metadata": {},
     "output_type": "execute_result"
    }
   ],
   "source": [
    "a.shape"
   ]
  },
  {
   "cell_type": "code",
   "execution_count": 7,
   "metadata": {},
   "outputs": [
    {
     "data": {
      "text/plain": "2"
     },
     "execution_count": 7,
     "metadata": {},
     "output_type": "execute_result"
    }
   ],
   "source": [
    "a.ndim"
   ]
  },
  {
   "cell_type": "code",
   "execution_count": 8,
   "metadata": {},
   "outputs": [
    {
     "data": {
      "text/plain": "15"
     },
     "execution_count": 8,
     "metadata": {},
     "output_type": "execute_result"
    }
   ],
   "source": [
    "a.size"
   ]
  },
  {
   "cell_type": "code",
   "execution_count": 10,
   "metadata": {},
   "outputs": [
    {
     "data": {
      "text/plain": "'int32'"
     },
     "execution_count": 10,
     "metadata": {},
     "output_type": "execute_result"
    }
   ],
   "source": [
    "a.dtype.name"
   ]
  },
  {
   "cell_type": "code",
   "execution_count": 11,
   "metadata": {},
   "outputs": [
    {
     "data": {
      "text/plain": "4"
     },
     "execution_count": 11,
     "metadata": {},
     "output_type": "execute_result"
    }
   ],
   "source": [
    "a.itemsize"
   ]
  },
  {
   "cell_type": "code",
   "execution_count": 12,
   "metadata": {},
   "outputs": [
    {
     "data": {
      "text/plain": "<memory at 0x000001D2986488B8>"
     },
     "execution_count": 12,
     "metadata": {},
     "output_type": "execute_result"
    }
   ],
   "source": [
    "a.data"
   ]
  },
  {
   "cell_type": "code",
   "execution_count": 22,
   "metadata": {},
   "outputs": [
    {
     "data": {
      "text/plain": "array([[1.5, 2. , 3. ],\n       [4. , 5. , 6. ]])"
     },
     "execution_count": 22,
     "metadata": {},
     "output_type": "execute_result"
    }
   ],
   "source": [
    "b = np.array([(1.5,2,3), (4,5,6)])\n",
    "b"
   ]
  },
  {
   "cell_type": "code",
   "execution_count": 18,
   "metadata": {},
   "outputs": [
    {
     "data": {
      "text/plain": "2"
     },
     "execution_count": 18,
     "metadata": {},
     "output_type": "execute_result"
    }
   ],
   "source": [
    "b.ndim"
   ]
  },
  {
   "cell_type": "code",
   "execution_count": 19,
   "metadata": {},
   "outputs": [
    {
     "data": {
      "text/plain": "array([[6.23042070e-307, 4.67296746e-307, 1.69121096e-306,\n        8.45597329e-307],\n       [2.22523004e-307, 1.69118108e-306, 8.01094494e-307,\n        3.56043054e-307],\n       [1.37961641e-306, 6.23048521e-307, 8.06638080e-308,\n        8.01106038e-307],\n       [6.89805151e-307, 1.78020169e-306, 1.42410974e-306,\n        1.33504432e-306]])"
     },
     "execution_count": 19,
     "metadata": {},
     "output_type": "execute_result"
    }
   ],
   "source": [
    "np.empty((4,4))"
   ]
  },
  {
   "cell_type": "code",
   "execution_count": 21,
   "metadata": {},
   "outputs": [
    {
     "data": {
      "text/plain": "array([10, 15, 20, 25])"
     },
     "execution_count": 21,
     "metadata": {},
     "output_type": "execute_result"
    }
   ],
   "source": [
    "np.arange(10, 30, 5)"
   ]
  },
  {
   "cell_type": "markdown",
   "execution_count": null,
   "metadata": {},
   "outputs": [],
   "source": [
    "Оскільки крок може бути `float` то в загальному важко передбачити кінцеву кількість едементів, а тому краще вжити `linspace`:"
   ]
  },
  {
   "cell_type": "code",
   "execution_count": 24,
   "metadata": {},
   "outputs": [
    {
     "data": {
      "text/plain": "array([0.  , 0.25, 0.5 , 0.75, 1.  , 1.25, 1.5 , 1.75, 2.  ])"
     },
     "execution_count": 24,
     "metadata": {},
     "output_type": "execute_result"
    }
   ],
   "source": [
    "np.linspace( 0, 2, 9)"
   ]
  },
  {
   "cell_type": "markdown",
   "execution_count": null,
   "metadata": {},
   "outputs": [],
   "source": [
    "### Основні операції"
   ]
  },
  {
   "cell_type": "code",
   "execution_count": 1,
   "metadata": {},
   "outputs": [],
   "source": [
    "import numpy as np\n",
    "a = np.array([1,2,3,4])\n",
    "b = np.arange(4)"
   ]
  },
  {
   "cell_type": "code",
   "execution_count": 12,
   "metadata": {},
   "outputs": [
    {
     "data": {
      "text/plain": "(array([1, 3, 5, 7]), array([ 3,  6,  9, 12]), array([ 3,  6,  9, 12]))"
     },
     "execution_count": 12,
     "metadata": {},
     "output_type": "execute_result"
    }
   ],
   "source": [
    "(a + b, a*3, 3*a)"
   ]
  },
  {
   "cell_type": "code",
   "execution_count": 8,
   "metadata": {},
   "outputs": [
    {
     "data": {
      "text/plain": "array([False,  True,  True, False])"
     },
     "execution_count": 8,
     "metadata": {},
     "output_type": "execute_result"
    }
   ],
   "source": [
    "np.sin(b)**(0.1) > 0.9"
   ]
  },
  {
   "cell_type": "code",
   "execution_count": 14,
   "metadata": {},
   "outputs": [
    {
     "data": {
      "text/plain": "(20, 20)"
     },
     "execution_count": 14,
     "metadata": {},
     "output_type": "execute_result"
    }
   ],
   "source": [
    "# скалярний добуток\n",
    "(a@b, a.dot(b))"
   ]
  },
  {
   "cell_type": "code",
   "execution_count": 17,
   "metadata": {},
   "outputs": [
    {
     "data": {
      "text/plain": "array([4, 5, 6, 7])"
     },
     "execution_count": 17,
     "metadata": {},
     "output_type": "execute_result"
    }
   ],
   "source": [
    "a += 1\n",
    "a"
   ]
  },
  {
   "cell_type": "code",
   "execution_count": 25,
   "metadata": {},
   "outputs": [
    {
     "data": {
      "text/plain": "array([[0.6361591 , 0.55822933, 0.52053723],\n       [0.34008039, 0.12208967, 0.79914333]])"
     },
     "execution_count": 25,
     "metadata": {},
     "output_type": "execute_result"
    }
   ],
   "source": [
    "a = np.random.random((2,3))\n",
    "a"
   ]
  },
  {
   "cell_type": "code",
   "execution_count": 19,
   "metadata": {},
   "outputs": [
    {
     "data": {
      "text/plain": "2.0095123901242453"
     },
     "execution_count": 19,
     "metadata": {},
     "output_type": "execute_result"
    }
   ],
   "source": [
    "a.sum()"
   ]
  },
  {
   "cell_type": "code",
   "execution_count": 20,
   "metadata": {},
   "outputs": [
    {
     "data": {
      "text/plain": "0.027655576203561072"
     },
     "execution_count": 20,
     "metadata": {},
     "output_type": "execute_result"
    }
   ],
   "source": [
    "a.min()"
   ]
  },
  {
   "cell_type": "code",
   "execution_count": 21,
   "metadata": {},
   "outputs": [
    {
     "data": {
      "text/plain": "0.8941902689072426"
     },
     "execution_count": 21,
     "metadata": {},
     "output_type": "execute_result"
    }
   ],
   "source": [
    "a.max()"
   ]
  },
  {
   "cell_type": "code",
   "execution_count": 22,
   "metadata": {},
   "outputs": [
    {
     "data": {
      "text/plain": "True"
     },
     "execution_count": 22,
     "metadata": {},
     "output_type": "execute_result"
    }
   ],
   "source": [
    "a.all()"
   ]
  },
  {
   "cell_type": "code",
   "execution_count": 23,
   "metadata": {},
   "outputs": [
    {
     "data": {
      "text/plain": "True"
     },
     "execution_count": 23,
     "metadata": {},
     "output_type": "execute_result"
    }
   ],
   "source": [
    "a.any()"
   ]
  },
  {
   "cell_type": "code",
   "execution_count": 26,
   "metadata": {},
   "outputs": [
    {
     "data": {
      "text/plain": "array([0.6361591 , 1.19438843, 1.71492566, 2.05500605, 2.17709572,\n       2.97623905])"
     },
     "execution_count": 26,
     "metadata": {},
     "output_type": "execute_result"
    }
   ],
   "source": [
    "a.cumsum()"
   ]
  },
  {
   "cell_type": "code",
   "execution_count": 27,
   "metadata": {},
   "outputs": [
    {
     "data": {
      "text/plain": "5"
     },
     "execution_count": 27,
     "metadata": {},
     "output_type": "execute_result"
    }
   ],
   "source": [
    "a.argmax()"
   ]
  },
  {
   "cell_type": "code",
   "execution_count": 38,
   "metadata": {},
   "outputs": [
    {
     "data": {
      "text/plain": "array([[2, 1, 0],\n       [1, 0, 2]], dtype=int64)"
     },
     "execution_count": 38,
     "metadata": {},
     "output_type": "execute_result"
    }
   ],
   "source": [
    "a.argpartition(0)"
   ]
  },
  {
   "cell_type": "code",
   "execution_count": 39,
   "metadata": {},
   "outputs": [
    {
     "data": {
      "text/plain": "0.49603984173980825"
     },
     "execution_count": 39,
     "metadata": {},
     "output_type": "execute_result"
    }
   ],
   "source": [
    "a.mean()"
   ]
  },
  {
   "cell_type": "markdown",
   "execution_count": null,
   "metadata": {},
   "outputs": [],
   "source": [
    "### Індексування"
   ]
  },
  {
   "cell_type": "code",
   "execution_count": 41,
   "metadata": {},
   "outputs": [
    {
     "data": {
      "text/plain": "array([  0,   1,   8,  27,  64, 125, 216, 343, 512, 729], dtype=int32)"
     },
     "execution_count": 41,
     "metadata": {},
     "output_type": "execute_result"
    }
   ],
   "source": [
    "a = np.arange(10)**3\n",
    "a"
   ]
  },
  {
   "cell_type": "code",
   "execution_count": 42,
   "metadata": {},
   "outputs": [
    {
     "data": {
      "text/plain": "8"
     },
     "execution_count": 42,
     "metadata": {},
     "output_type": "execute_result"
    }
   ],
   "source": [
    "a[2]"
   ]
  },
  {
   "cell_type": "code",
   "execution_count": 51,
   "metadata": {},
   "outputs": [],
   "source": [
    "a[::3] = -1"
   ]
  },
  {
   "cell_type": "code",
   "execution_count": 52,
   "metadata": {},
   "outputs": [
    {
     "data": {
      "text/plain": "array([ -1,   1,   8,  -1,  64, 125,  -1, 343, 512,  -1], dtype=int32)"
     },
     "execution_count": 52,
     "metadata": {},
     "output_type": "execute_result"
    }
   ],
   "source": [
    "a"
   ]
  },
  {
   "cell_type": "code",
   "execution_count": 60,
   "metadata": {},
   "outputs": [],
   "source": [
    "def f(x, y):\n",
    "    return 2*x + y\n",
    "\n",
    "b = np.fromfunction(f, (5, 5), dtype = int)"
   ]
  },
  {
   "cell_type": "code",
   "execution_count": 61,
   "metadata": {},
   "outputs": [
    {
     "data": {
      "text/plain": "array([[ 0,  1,  2,  3,  4],\n       [ 2,  3,  4,  5,  6],\n       [ 4,  5,  6,  7,  8],\n       [ 6,  7,  8,  9, 10],\n       [ 8,  9, 10, 11, 12]])"
     },
     "execution_count": 61,
     "metadata": {},
     "output_type": "execute_result"
    }
   ],
   "source": [
    "b"
   ]
  },
  {
   "cell_type": "code",
   "execution_count": 62,
   "metadata": {},
   "outputs": [
    {
     "data": {
      "text/plain": "array([[ 0,  1,  2,  3,  4],\n       [ 2,  3,  4,  5,  6],\n       [ 4,  5,  6,  7,  8],\n       [ 6,  7,  8,  9, 10],\n       [ 8,  9, 10, 11, 12]])"
     },
     "execution_count": 62,
     "metadata": {},
     "output_type": "execute_result"
    }
   ],
   "source": [
    "b[:, :]"
   ]
  },
  {
   "cell_type": "code",
   "execution_count": 64,
   "metadata": {},
   "outputs": [
    {
     "data": {
      "text/plain": "7"
     },
     "execution_count": 64,
     "metadata": {},
     "output_type": "execute_result"
    }
   ],
   "source": [
    "b[2, 3]"
   ]
  },
  {
   "cell_type": "code",
   "execution_count": 66,
   "metadata": {},
   "outputs": [
    {
     "data": {
      "text/plain": "array([ 4,  6,  8, 10, 12])"
     },
     "execution_count": 66,
     "metadata": {},
     "output_type": "execute_result"
    }
   ],
   "source": [
    "b[:, -1]"
   ]
  },
  {
   "cell_type": "code",
   "execution_count": 67,
   "metadata": {},
   "outputs": [
    {
     "data": {
      "text/plain": "array([[3, 4, 5],\n       [5, 6, 7],\n       [7, 8, 9]])"
     },
     "execution_count": 67,
     "metadata": {},
     "output_type": "execute_result"
    }
   ],
   "source": [
    "b[1:-1, 1:-1]"
   ]
  },
  {
   "cell_type": "code",
   "execution_count": 69,
   "metadata": {},
   "outputs": [
    {
     "data": {
      "text/plain": "array([ 4,  6,  8, 10, 12])"
     },
     "execution_count": 69,
     "metadata": {},
     "output_type": "execute_result"
    }
   ],
   "source": [
    "b[..., -1]"
   ]
  },
  {
   "cell_type": "markdown",
   "execution_count": null,
   "metadata": {},
   "outputs": [],
   "source": [
    "+ `x[1,2,...]` is equivalent to `x[1,2,:,:,:]`,\n",
    "+ `x[...,3]` to `x[:,:,:,:,3]` and\n",
    "+ `x[4,...,5,:]` to `x[4,:,:,5,:]`."
   ]
  },
  {
   "cell_type": "code",
   "execution_count": 75,
   "metadata": {},
   "outputs": [
    {
     "data": {
      "text/plain": "<numpy.flatiter at 0x280d8fad640>"
     },
     "execution_count": 75,
     "metadata": {},
     "output_type": "execute_result"
    }
   ],
   "source": [
    "b.flat"
   ]
  },
  {
   "cell_type": "markdown",
   "execution_count": null,
   "metadata": {},
   "outputs": [],
   "source": [
    "### Зміна форми матриці"
   ]
  },
  {
   "cell_type": "code",
   "execution_count": 78,
   "metadata": {},
   "outputs": [
    {
     "data": {
      "text/plain": "array([[7., 0., 7., 1.],\n       [6., 4., 1., 4.],\n       [8., 5., 3., 6.]])"
     },
     "execution_count": 78,
     "metadata": {},
     "output_type": "execute_result"
    }
   ],
   "source": [
    "a = np.floor(10*np.random.random((3, 4)))\n",
    "a"
   ]
  },
  {
   "cell_type": "code",
   "execution_count": 79,
   "metadata": {},
   "outputs": [
    {
     "data": {
      "text/plain": "(3, 4)"
     },
     "execution_count": 79,
     "metadata": {},
     "output_type": "execute_result"
    }
   ],
   "source": [
    "a.shape"
   ]
  },
  {
   "cell_type": "code",
   "execution_count": 80,
   "metadata": {},
   "outputs": [
    {
     "data": {
      "text/plain": "array([7., 0., 7., 1., 6., 4., 1., 4., 8., 5., 3., 6.])"
     },
     "execution_count": 80,
     "metadata": {},
     "output_type": "execute_result"
    }
   ],
   "source": [
    "a.ravel()"
   ]
  },
  {
   "cell_type": "code",
   "execution_count": 81,
   "metadata": {},
   "outputs": [
    {
     "data": {
      "text/plain": "(12, 12)"
     },
     "execution_count": 81,
     "metadata": {},
     "output_type": "execute_result"
    }
   ],
   "source": [
    "(3*4, 6*2)"
   ]
  },
  {
   "cell_type": "code",
   "execution_count": 82,
   "metadata": {},
   "outputs": [
    {
     "data": {
      "text/plain": "array([[7., 0.],\n       [7., 1.],\n       [6., 4.],\n       [1., 4.],\n       [8., 5.],\n       [3., 6.]])"
     },
     "execution_count": 82,
     "metadata": {},
     "output_type": "execute_result"
    }
   ],
   "source": [
    "a.reshape(6, 2)"
   ]
  },
  {
   "cell_type": "code",
   "execution_count": 84,
   "metadata": {},
   "outputs": [
    {
     "data": {
      "text/plain": "array([[7., 0., 7., 1.],\n       [6., 4., 1., 4.],\n       [8., 5., 3., 6.]])"
     },
     "execution_count": 84,
     "metadata": {},
     "output_type": "execute_result"
    }
   ],
   "source": [
    "a"
   ]
  },
  {
   "cell_type": "code",
   "execution_count": 88,
   "metadata": {},
   "outputs": [
    {
     "data": {
      "text/plain": "array([[49.,  0., 49.,  7., 42., 28.,  7., 28., 56., 35., 21., 42.],\n       [ 0.,  0.,  0.,  0.,  0.,  0.,  0.,  0.,  0.,  0.,  0.,  0.],\n       [49.,  0., 49.,  7., 42., 28.,  7., 28., 56., 35., 21., 42.],\n       [ 7.,  0.,  7.,  1.,  6.,  4.,  1.,  4.,  8.,  5.,  3.,  6.],\n       [42.,  0., 42.,  6., 36., 24.,  6., 24., 48., 30., 18., 36.],\n       [28.,  0., 28.,  4., 24., 16.,  4., 16., 32., 20., 12., 24.],\n       [ 7.,  0.,  7.,  1.,  6.,  4.,  1.,  4.,  8.,  5.,  3.,  6.],\n       [28.,  0., 28.,  4., 24., 16.,  4., 16., 32., 20., 12., 24.],\n       [56.,  0., 56.,  8., 48., 32.,  8., 32., 64., 40., 24., 48.],\n       [35.,  0., 35.,  5., 30., 20.,  5., 20., 40., 25., 15., 30.],\n       [21.,  0., 21.,  3., 18., 12.,  3., 12., 24., 15.,  9., 18.],\n       [42.,  0., 42.,  6., 36., 24.,  6., 24., 48., 30., 18., 36.]])"
     },
     "execution_count": 88,
     "metadata": {},
     "output_type": "execute_result"
    }
   ],
   "source": [
    "a.reshape(12, 1)@a.reshape(12, 1).T"
   ]
  },
  {
   "cell_type": "code",
   "execution_count": 92,
   "metadata": {},
   "outputs": [
    {
     "data": {
      "text/plain": "array([[7., 0.],\n       [7., 1.],\n       [6., 4.],\n       [1., 4.],\n       [8., 5.],\n       [3., 6.]])"
     },
     "execution_count": 92,
     "metadata": {},
     "output_type": "execute_result"
    }
   ],
   "source": [
    "a.resize((6, 2))\n",
    "a"
   ]
  },
  {
   "cell_type": "code",
   "execution_count": 89,
   "metadata": {},
   "outputs": [
    {
     "data": {
      "text/plain": "array([[7.],\n       [0.],\n       [7.],\n       [1.],\n       [6.],\n       [4.],\n       [1.],\n       [4.],\n       [8.],\n       [5.],\n       [3.],\n       [6.]])"
     },
     "execution_count": 89,
     "metadata": {},
     "output_type": "execute_result"
    }
   ],
   "source": [
    "a.reshape(12, 1)"
   ]
  },
  {
   "cell_type": "code",
   "execution_count": 94,
   "metadata": {},
   "outputs": [],
   "source": [
    "a = np.ones((2, 2))\n",
    "b = np.zeros((2, 2))"
   ]
  },
  {
   "cell_type": "code",
   "execution_count": 96,
   "metadata": {},
   "outputs": [
    {
     "data": {
      "text/plain": "array([[1., 1., 0., 0.],\n       [1., 1., 0., 0.]])"
     },
     "execution_count": 96,
     "metadata": {},
     "output_type": "execute_result"
    }
   ],
   "source": [
    "np.hstack((a, b))"
   ]
  },
  {
   "cell_type": "code",
   "execution_count": 95,
   "metadata": {},
   "outputs": [
    {
     "data": {
      "text/plain": "array([[1., 1.],\n       [1., 1.],\n       [0., 0.],\n       [0., 0.]])"
     },
     "execution_count": 95,
     "metadata": {},
     "output_type": "execute_result"
    }
   ],
   "source": [
    "np.vstack((a, b))"
   ]
  },
  {
   "cell_type": "code",
   "execution_count": 97,
   "metadata": {},
   "outputs": [
    {
     "data": {
      "text/plain": "array([1, 2, 3, 0, 4])"
     },
     "execution_count": 97,
     "metadata": {},
     "output_type": "execute_result"
    }
   ],
   "source": [
    "np.r_[1:4,0,4]"
   ]
  },
  {
   "cell_type": "code",
   "execution_count": 98,
   "metadata": {},
   "outputs": [],
   "source": [
    "a = np.floor(10*np.random.random((2,12)))"
   ]
  },
  {
   "cell_type": "code",
   "execution_count": 99,
   "metadata": {},
   "outputs": [
    {
     "data": {
      "text/plain": "array([[4., 3., 7., 1., 4., 7., 4., 9., 0., 2., 6., 4.],\n       [0., 5., 0., 1., 7., 9., 2., 2., 9., 2., 9., 2.]])"
     },
     "execution_count": 99,
     "metadata": {},
     "output_type": "execute_result"
    }
   ],
   "source": [
    "a"
   ]
  },
  {
   "cell_type": "code",
   "execution_count": 101,
   "metadata": {},
   "outputs": [
    {
     "data": {
      "text/plain": "[array([[4., 3., 7., 1.],\n        [0., 5., 0., 1.]]), array([[4., 7., 4., 9.],\n        [7., 9., 2., 2.]]), array([[0., 2., 6., 4.],\n        [9., 2., 9., 2.]])]"
     },
     "execution_count": 101,
     "metadata": {},
     "output_type": "execute_result"
    }
   ],
   "source": [
    "np.hsplit(a, 3)"
   ]
  },
  {
   "cell_type": "code",
   "execution_count": 105,
   "metadata": {},
   "outputs": [],
   "source": [
    "b = a # не створюється нова копія"
   ]
  },
  {
   "cell_type": "code",
   "execution_count": 104,
   "metadata": {},
   "outputs": [
    {
     "data": {
      "text/plain": "True"
     },
     "execution_count": 104,
     "metadata": {},
     "output_type": "execute_result"
    }
   ],
   "source": [
    "a is b"
   ]
  },
  {
   "cell_type": "code",
   "execution_count": 109,
   "metadata": {},
   "outputs": [],
   "source": [
    "c = a.view()"
   ]
  },
  {
   "cell_type": "code",
   "execution_count": 111,
   "metadata": {},
   "outputs": [
    {
     "data": {
      "text/plain": "False"
     },
     "execution_count": 111,
     "metadata": {},
     "output_type": "execute_result"
    }
   ],
   "source": [
    "c is a"
   ]
  },
  {
   "cell_type": "code",
   "execution_count": 112,
   "metadata": {},
   "outputs": [],
   "source": [
    "c[0] = -100"
   ]
  },
  {
   "cell_type": "code",
   "execution_count": 113,
   "metadata": {},
   "outputs": [
    {
     "data": {
      "text/plain": "array([[-100., -100., -100., -100., -100., -100., -100., -100., -100.,\n        -100., -100., -100.],\n       [   0.,    5.,    0.,    1.,    7.,    9.,    2.,    2.,    9.,\n           2.,    9.,    2.]])"
     },
     "execution_count": 113,
     "metadata": {},
     "output_type": "execute_result"
    }
   ],
   "source": [
    "a"
   ]
  },
  {
   "cell_type": "code",
   "execution_count": 116,
   "metadata": {},
   "outputs": [
    {
     "data": {
      "text/plain": "(2, 12)"
     },
     "execution_count": 116,
     "metadata": {},
     "output_type": "execute_result"
    }
   ],
   "source": [
    "c.shape"
   ]
  },
  {
   "cell_type": "code",
   "execution_count": 117,
   "metadata": {},
   "outputs": [
    {
     "data": {
      "text/plain": "array([[-100., -100., -100., -100., -100., -100., -100., -100., -100.,\n        -100., -100., -100.],\n       [   0.,    5.,    0.,    1.,    7.,    9.,    2.,    2.,    9.,\n           2.,    9.,    2.]])"
     },
     "execution_count": 117,
     "metadata": {},
     "output_type": "execute_result"
    }
   ],
   "source": [
    "a"
   ]
  },
  {
   "cell_type": "code",
   "execution_count": 136,
   "metadata": {},
   "outputs": [],
   "source": [
    "c = a[0:, :4]"
   ]
  },
  {
   "cell_type": "code",
   "execution_count": 137,
   "metadata": {},
   "outputs": [
    {
     "data": {
      "text/plain": "array([[-100., -100., -100., -100.],\n       [   0.,    5.,    0.,    1.]])"
     },
     "execution_count": 137,
     "metadata": {},
     "output_type": "execute_result"
    }
   ],
   "source": [
    "c"
   ]
  },
  {
   "cell_type": "code",
   "execution_count": 138,
   "metadata": {},
   "outputs": [],
   "source": [
    "c[:] = -1"
   ]
  },
  {
   "cell_type": "code",
   "execution_count": 139,
   "metadata": {},
   "outputs": [
    {
     "data": {
      "text/plain": "array([[  -1.,   -1.,   -1.,   -1., -100., -100., -100., -100., -100.,\n        -100., -100., -100.],\n       [  -1.,   -1.,   -1.,   -1.,    7.,    9.,    2.,    2.,    9.,\n           2.,    9.,    2.]])"
     },
     "execution_count": 139,
     "metadata": {},
     "output_type": "execute_result"
    }
   ],
   "source": [
    "a"
   ]
  },
  {
   "cell_type": "code",
   "execution_count": 141,
   "metadata": {},
   "outputs": [
    {
     "data": {
      "text/plain": "array([[  -1.,   -1.,   -1.,   -1., -100., -100., -100., -100., -100.,\n        -100., -100., -100.],\n       [  -1.,   -1.,   -1.,   -1.,    7.,    9.,    2.,    2.,    9.,\n           2.,    9.,    2.]])"
     },
     "execution_count": 141,
     "metadata": {},
     "output_type": "execute_result"
    }
   ],
   "source": [
    "d = a.copy()\n",
    "d"
   ]
  },
  {
   "cell_type": "code",
   "execution_count": 142,
   "metadata": {},
   "outputs": [
    {
     "data": {
      "text/plain": "False"
     },
     "execution_count": 142,
     "metadata": {},
     "output_type": "execute_result"
    }
   ],
   "source": [
    "d is a"
   ]
  },
  {
   "cell_type": "code",
   "execution_count": 144,
   "metadata": {},
   "outputs": [
    {
     "data": {
      "text/plain": "array([[0., 0., 0., 0., 0., 0., 0., 0., 0., 0., 0., 0.],\n       [0., 0., 0., 0., 0., 0., 0., 0., 0., 0., 0., 0.]])"
     },
     "execution_count": 144,
     "metadata": {},
     "output_type": "execute_result"
    }
   ],
   "source": [
    "d[:]=0\n",
    "d"
   ]
  },
  {
   "cell_type": "code",
   "execution_count": 145,
   "metadata": {},
   "outputs": [
    {
     "data": {
      "text/plain": "array([[  -1.,   -1.,   -1.,   -1., -100., -100., -100., -100., -100.,\n        -100., -100., -100.],\n       [  -1.,   -1.,   -1.,   -1.,    7.,    9.,    2.,    2.,    9.,\n           2.,    9.,    2.]])"
     },
     "execution_count": 145,
     "metadata": {},
     "output_type": "execute_result"
    }
   ],
   "source": [
    "a"
   ]
  },
  {
   "cell_type": "code",
   "execution_count": 1,
   "metadata": {},
   "outputs": [],
   "source": [
    "import numpy as np"
   ]
  },
  {
   "cell_type": "code",
   "execution_count": 3,
   "metadata": {},
   "outputs": [],
   "source": [
    "a = np.random.random((10,10))"
   ]
  },
  {
   "cell_type": "code",
   "execution_count": 4,
   "metadata": {},
   "outputs": [
    {
     "data": {
      "text/plain": "(array([[-0.29572105,  0.55294534, -0.33100651,  0.28486458, -0.09987438,\n          0.20978452, -0.47322414,  0.17288409, -0.30527179, -0.12280915],\n        [-0.37564224,  0.16357498,  0.12370178, -0.53633089,  0.22767666,\n         -0.12579012, -0.22282404, -0.55250763, -0.20506283,  0.25408141],\n        [-0.33827296, -0.01779526,  0.22595805, -0.07129747, -0.78450747,\n         -0.25523359, -0.16343504, -0.01614053,  0.34015074, -0.07644702],\n        [-0.30093291, -0.36105918,  0.41547394, -0.03404937,  0.24697742,\n          0.13202351, -0.20501194,  0.13879256, -0.17287536, -0.66006855],\n        [-0.34487937, -0.3900802 , -0.10900242,  0.03348226, -0.04543091,\n          0.71800826, -0.05296455,  0.00109422,  0.21184795,  0.38808148],\n        [-0.32805846, -0.17507305, -0.65742288,  0.01461857,  0.25773384,\n         -0.30614535,  0.03919242, -0.11461401,  0.41950841, -0.28017333],\n        [-0.31095111, -0.07985468,  0.24226109,  0.28183946,  0.31468988,\n         -0.4354996 , -0.1443994 ,  0.46139007,  0.04505115,  0.48410485],\n        [-0.29144649,  0.46494766,  0.34068572,  0.3597156 ,  0.17951418,\n          0.16101192,  0.47254584, -0.25455788,  0.30922452, -0.10747688],\n        [-0.33566444, -0.25212321, -0.1621317 ,  0.21555233, -0.24897593,\n         -0.14710724,  0.50299284, -0.10988668, -0.6329099 ,  0.04162211],\n        [-0.21350962,  0.26054163, -0.07954038, -0.60690386, -0.00196312,\n          0.10538876,  0.39518806,  0.58517464,  0.00887365, -0.04561134]]),\n array([5.26390576, 1.66116012, 1.18949201, 1.06352843, 0.99134599,\n        0.74601297, 0.47735793, 0.40305986, 0.28596492, 0.19752969]),\n array([[-2.41420875e-01, -3.72914708e-01, -3.78318794e-01,\n         -3.37835428e-01, -3.60617303e-01, -2.75281970e-01,\n         -3.06205252e-01, -2.28670300e-01, -3.24406636e-01,\n         -2.97113220e-01],\n        [ 4.07365058e-01,  2.40003967e-01,  9.30771193e-02,\n          5.79706287e-01, -2.91249626e-01, -3.95418635e-01,\n         -7.01150647e-02, -9.01906650e-02, -4.08748814e-01,\n         -1.02082137e-01],\n        [-5.00539260e-02, -1.76083524e-01, -3.27251072e-01,\n          1.24216656e-01,  4.38086950e-01, -3.16295461e-01,\n         -2.59541757e-01,  2.70638096e-01, -2.23170442e-01,\n          6.01324548e-01],\n        [ 4.91859401e-01,  1.64895517e-01,  1.26750020e-01,\n         -3.35358200e-01,  3.31698203e-01,  1.12704514e-01,\n         -5.23905823e-01, -4.52262190e-01, -1.92977851e-02,\n          1.53719797e-02],\n        [-2.57666306e-01,  7.37956519e-01, -3.39305519e-02,\n         -4.33865111e-01, -1.68472460e-02, -2.70570081e-01,\n          2.15023743e-01, -1.25662708e-02, -2.42887389e-01,\n          1.44078557e-01],\n        [ 2.98098829e-02,  1.97487032e-01, -2.07910440e-01,\n          2.48876237e-02,  2.80682099e-01,  3.46215470e-01,\n         -1.82497353e-01,  5.28408726e-01, -3.54589847e-01,\n         -5.28546573e-01],\n        [-3.88584507e-02, -3.52210477e-02, -4.06377210e-01,\n          2.13779137e-01,  3.10836739e-01,  2.79692627e-01,\n          4.64584425e-01, -5.56044919e-01, -2.93706689e-01,\n         -1.64267997e-02],\n        [ 5.39817491e-01, -2.88576208e-01,  6.78390592e-02,\n         -4.15001714e-01, -1.83096887e-01,  1.13020745e-01,\n          4.08572138e-01,  2.51543422e-01, -3.60317733e-01,\n          2.05328944e-01],\n        [ 3.70103324e-01,  2.36912508e-01, -7.14741498e-01,\n         -1.10946594e-02, -2.58262018e-01,  1.54963543e-02,\n          1.52834755e-04,  9.25374886e-02,  4.67621807e-01,\n          4.17698602e-02],\n        [ 1.84847711e-01, -1.44608226e-01,  8.64236055e-03,\n         -1.22489114e-01,  4.55275141e-01, -6.08936533e-01,\n          3.11725183e-01,  3.73168212e-02,  2.40865949e-01,\n         -4.41792730e-01]]))"
     },
     "execution_count": 4,
     "metadata": {},
     "output_type": "execute_result"
    }
   ],
   "source": [
    "np.linalg.svd(a)"
   ]
  },
  {
   "cell_type": "code",
   "execution_count": 7,
   "metadata": {},
   "outputs": [
    {
     "ename": "TypeError",
     "evalue": "'tuple' object cannot be interpreted as an integer",
     "output_type": "error",
     "traceback": [
      "\u001b[1;31m---------------------------------------------------------------------------\u001b[0m",
      "\u001b[1;31mTypeError\u001b[0m                                 Traceback (most recent call last)",
      "\u001b[1;32m<ipython-input-7-a347e76bf5d1>\u001b[0m in \u001b[0;36m<module>\u001b[1;34m\u001b[0m\n\u001b[1;32m----> 1\u001b[1;33m \u001b[0mnp\u001b[0m\u001b[1;33m.\u001b[0m\u001b[0midentity\u001b[0m\u001b[1;33m(\u001b[0m\u001b[1;33m(\u001b[0m\u001b[1;36m4\u001b[0m\u001b[1;33m,\u001b[0m\u001b[1;36m5\u001b[0m\u001b[1;33m)\u001b[0m\u001b[1;33m)\u001b[0m\u001b[1;33m\u001b[0m\u001b[1;33m\u001b[0m\u001b[0m\n\u001b[0m",
      "\u001b[1;32m~\\AppData\\Local\\Programs\\Python\\Python37\\lib\\site-packages\\numpy\\core\\numeric.py\u001b[0m in \u001b[0;36midentity\u001b[1;34m(n, dtype)\u001b[0m\n\u001b[0;32m   2094\u001b[0m     \"\"\"\n\u001b[0;32m   2095\u001b[0m     \u001b[1;32mfrom\u001b[0m \u001b[0mnumpy\u001b[0m \u001b[1;32mimport\u001b[0m \u001b[0meye\u001b[0m\u001b[1;33m\u001b[0m\u001b[1;33m\u001b[0m\u001b[0m\n\u001b[1;32m-> 2096\u001b[1;33m     \u001b[1;32mreturn\u001b[0m \u001b[0meye\u001b[0m\u001b[1;33m(\u001b[0m\u001b[0mn\u001b[0m\u001b[1;33m,\u001b[0m \u001b[0mdtype\u001b[0m\u001b[1;33m=\u001b[0m\u001b[0mdtype\u001b[0m\u001b[1;33m)\u001b[0m\u001b[1;33m\u001b[0m\u001b[1;33m\u001b[0m\u001b[0m\n\u001b[0m\u001b[0;32m   2097\u001b[0m \u001b[1;33m\u001b[0m\u001b[0m\n\u001b[0;32m   2098\u001b[0m \u001b[1;33m\u001b[0m\u001b[0m\n",
      "\u001b[1;32m~\\AppData\\Local\\Programs\\Python\\Python37\\lib\\site-packages\\numpy\\lib\\twodim_base.py\u001b[0m in \u001b[0;36meye\u001b[1;34m(N, M, k, dtype, order)\u001b[0m\n\u001b[0;32m    199\u001b[0m     \u001b[1;32mif\u001b[0m \u001b[0mM\u001b[0m \u001b[1;32mis\u001b[0m \u001b[1;32mNone\u001b[0m\u001b[1;33m:\u001b[0m\u001b[1;33m\u001b[0m\u001b[1;33m\u001b[0m\u001b[0m\n\u001b[0;32m    200\u001b[0m         \u001b[0mM\u001b[0m \u001b[1;33m=\u001b[0m \u001b[0mN\u001b[0m\u001b[1;33m\u001b[0m\u001b[1;33m\u001b[0m\u001b[0m\n\u001b[1;32m--> 201\u001b[1;33m     \u001b[0mm\u001b[0m \u001b[1;33m=\u001b[0m \u001b[0mzeros\u001b[0m\u001b[1;33m(\u001b[0m\u001b[1;33m(\u001b[0m\u001b[0mN\u001b[0m\u001b[1;33m,\u001b[0m \u001b[0mM\u001b[0m\u001b[1;33m)\u001b[0m\u001b[1;33m,\u001b[0m \u001b[0mdtype\u001b[0m\u001b[1;33m=\u001b[0m\u001b[0mdtype\u001b[0m\u001b[1;33m,\u001b[0m \u001b[0morder\u001b[0m\u001b[1;33m=\u001b[0m\u001b[0morder\u001b[0m\u001b[1;33m)\u001b[0m\u001b[1;33m\u001b[0m\u001b[1;33m\u001b[0m\u001b[0m\n\u001b[0m\u001b[0;32m    202\u001b[0m     \u001b[1;32mif\u001b[0m \u001b[0mk\u001b[0m \u001b[1;33m>=\u001b[0m \u001b[0mM\u001b[0m\u001b[1;33m:\u001b[0m\u001b[1;33m\u001b[0m\u001b[1;33m\u001b[0m\u001b[0m\n\u001b[0;32m    203\u001b[0m         \u001b[1;32mreturn\u001b[0m \u001b[0mm\u001b[0m\u001b[1;33m\u001b[0m\u001b[1;33m\u001b[0m\u001b[0m\n",
      "\u001b[1;31mTypeError\u001b[0m: 'tuple' object cannot be interpreted as an integer"
     ]
    }
   ],
   "source": [
    "np.identity((4,5))"
   ]
  },
  {
   "cell_type": "code",
   "execution_count": 8,
   "metadata": {},
   "outputs": [
    {
     "data": {
      "text/plain": "array([[1., 0., 0., 0., 0.],\n       [0., 1., 0., 0., 0.],\n       [0., 0., 1., 0., 0.],\n       [0., 0., 0., 1., 0.]])"
     },
     "execution_count": 8,
     "metadata": {},
     "output_type": "execute_result"
    }
   ],
   "source": [
    "np.eye(4,5)"
   ]
  },
  {
   "cell_type": "code",
   "execution_count": 9,
   "metadata": {},
   "outputs": [],
   "source": [
    "a = np.arange(12)*2"
   ]
  },
  {
   "cell_type": "code",
   "execution_count": 10,
   "metadata": {},
   "outputs": [
    {
     "data": {
      "text/plain": "array([ 0,  2,  4,  6,  8, 10, 12, 14, 16, 18, 20, 22])"
     },
     "execution_count": 10,
     "metadata": {},
     "output_type": "execute_result"
    }
   ],
   "source": [
    "a"
   ]
  },
  {
   "cell_type": "code",
   "execution_count": 11,
   "metadata": {},
   "outputs": [],
   "source": [
    "i = np.array([1, 1, 3, 8, 5])"
   ]
  },
  {
   "cell_type": "code",
   "execution_count": 12,
   "metadata": {},
   "outputs": [
    {
     "data": {
      "text/plain": "array([1, 1, 3, 8, 5])"
     },
     "execution_count": 12,
     "metadata": {},
     "output_type": "execute_result"
    }
   ],
   "source": [
    "i"
   ]
  },
  {
   "cell_type": "code",
   "execution_count": 13,
   "metadata": {},
   "outputs": [
    {
     "data": {
      "text/plain": "array([ 2,  2,  6, 16, 10])"
     },
     "execution_count": 13,
     "metadata": {},
     "output_type": "execute_result"
    }
   ],
   "source": [
    "a[i]"
   ]
  },
  {
   "cell_type": "code",
   "execution_count": 14,
   "metadata": {},
   "outputs": [
    {
     "data": {
      "text/plain": "array([ 2,  2,  6, 16, 10])"
     },
     "execution_count": 14,
     "metadata": {},
     "output_type": "execute_result"
    }
   ],
   "source": [
    "a[[1,1,3,8,5]]"
   ]
  },
  {
   "cell_type": "code",
   "execution_count": 16,
   "metadata": {},
   "outputs": [],
   "source": [
    "j = np.array([[3, 3], [3, 3]])"
   ]
  },
  {
   "cell_type": "code",
   "execution_count": 17,
   "metadata": {},
   "outputs": [
    {
     "data": {
      "text/plain": "array([[6, 6],\n       [6, 6]])"
     },
     "execution_count": 17,
     "metadata": {},
     "output_type": "execute_result"
    }
   ],
   "source": [
    "a[j]"
   ]
  },
  {
   "cell_type": "code",
   "execution_count": 18,
   "metadata": {},
   "outputs": [
    {
     "data": {
      "text/plain": "<numpy.lib.index_tricks.OGridClass at 0x13cff6ff7f0>"
     },
     "execution_count": 18,
     "metadata": {},
     "output_type": "execute_result"
    }
   ],
   "source": [
    "np.ogrid"
   ]
  },
  {
   "cell_type": "code",
   "execution_count": 19,
   "metadata": {},
   "outputs": [],
   "source": [
    "a = np.array([2,3,4,5])\n",
    "b = np.array([8,5,4])\n",
    "c = np.array([5,4,6,8,3])"
   ]
  },
  {
   "cell_type": "code",
   "execution_count": 20,
   "metadata": {},
   "outputs": [],
   "source": [
    "ax,bx,cx = np.ix_(a,b,c)"
   ]
  },
  {
   "cell_type": "code",
   "execution_count": 21,
   "metadata": {},
   "outputs": [
    {
     "data": {
      "text/plain": "array([[[2]],\n\n       [[3]],\n\n       [[4]],\n\n       [[5]]])"
     },
     "execution_count": 21,
     "metadata": {},
     "output_type": "execute_result"
    }
   ],
   "source": [
    "ax"
   ]
  },
  {
   "cell_type": "code",
   "execution_count": 22,
   "metadata": {},
   "outputs": [
    {
     "data": {
      "text/plain": "array([[[8],\n        [5],\n        [4]]])"
     },
     "execution_count": 22,
     "metadata": {},
     "output_type": "execute_result"
    }
   ],
   "source": [
    "bx"
   ]
  },
  {
   "cell_type": "code",
   "execution_count": 23,
   "metadata": {},
   "outputs": [
    {
     "data": {
      "text/plain": "array([[[5, 4, 6, 8, 3]]])"
     },
     "execution_count": 23,
     "metadata": {},
     "output_type": "execute_result"
    }
   ],
   "source": [
    "cx"
   ]
  },
  {
   "cell_type": "code",
   "execution_count": 25,
   "metadata": {},
   "outputs": [
    {
     "data": {
      "text/plain": "((4, 1, 1), (1, 3, 1), (1, 1, 5))"
     },
     "execution_count": 25,
     "metadata": {},
     "output_type": "execute_result"
    }
   ],
   "source": [
    "ax.shape, bx.shape, cx.shape"
   ]
  },
  {
   "cell_type": "code",
   "execution_count": 27,
   "metadata": {},
   "outputs": [],
   "source": [
    "result = ax+bx*cx"
   ]
  },
  {
   "cell_type": "code",
   "execution_count": 28,
   "metadata": {},
   "outputs": [
    {
     "data": {
      "text/plain": "60"
     },
     "execution_count": 28,
     "metadata": {},
     "output_type": "execute_result"
    }
   ],
   "source": [
    "result.size"
   ]
  },
  {
   "cell_type": "code",
   "execution_count": 29,
   "metadata": {},
   "outputs": [],
   "source": [
    "a = np.random.random((5, 5))"
   ]
  },
  {
   "cell_type": "code",
   "execution_count": 31,
   "metadata": {},
   "outputs": [
    {
     "data": {
      "text/plain": "array([[0.6232618 , 0.9967798 , 0.54302238, 0.38876247, 0.11692408],\n       [0.71171063, 0.51199543, 0.05231377, 0.71563993, 0.21728106],\n       [0.36985167, 0.77389901, 0.72729093, 0.94681099, 0.5040809 ],\n       [0.04733689, 0.71198341, 0.34374452, 0.46893903, 0.96428183],\n       [0.15350501, 0.50566327, 0.36596665, 0.67194316, 0.14832232]])"
     },
     "execution_count": 31,
     "metadata": {},
     "output_type": "execute_result"
    }
   ],
   "source": [
    "a"
   ]
  },
  {
   "cell_type": "code",
   "execution_count": 32,
   "metadata": {},
   "outputs": [
    {
     "data": {
      "text/plain": "array([[0.6232618 , 0.9967798 , 0.54302238, 0.38876247, 0.11692408],\n       [0.71171063, 0.51199543, 0.05231377, 0.71563993, 0.21728106],\n       [0.36985167, 0.77389901, 0.72729093, 0.94681099, 0.5040809 ],\n       [0.04733689, 0.71198341, 0.34374452, 0.46893903, 0.96428183],\n       [0.15350501, 0.50566327, 0.36596665, 0.67194316, 0.14832232]])"
     },
     "execution_count": 32,
     "metadata": {},
     "output_type": "execute_result"
    }
   ],
   "source": [
    "a.transpose()\n",
    "a"
   ]
  },
  {
   "cell_type": "code",
   "execution_count": 33,
   "metadata": {},
   "outputs": [
    {
     "data": {
      "text/plain": "0.0781917339487779"
     },
     "execution_count": 33,
     "metadata": {},
     "output_type": "execute_result"
    }
   ],
   "source": [
    "np.linalg.det(a)"
   ]
  },
  {
   "cell_type": "code",
   "execution_count": 34,
   "metadata": {},
   "outputs": [],
   "source": [
    "ia = np.linalg.inv(a)"
   ]
  },
  {
   "cell_type": "code",
   "execution_count": 35,
   "metadata": {},
   "outputs": [
    {
     "data": {
      "text/plain": "array([[ 1.00000000e+00, -8.35900289e-17,  3.53158200e-16,\n         9.50138829e-17, -5.49520424e-16],\n       [-3.38518653e-18,  1.00000000e+00,  2.07760036e-16,\n        -8.64792957e-17,  9.76011727e-17],\n       [ 3.10323655e-17,  5.19636947e-17,  1.00000000e+00,\n         3.16929858e-17,  1.54652248e-17],\n       [-1.15838151e-16, -9.53486512e-19,  2.24443706e-16,\n         1.00000000e+00, -1.90910235e-16],\n       [-2.44725874e-17,  7.40218855e-18,  1.43341965e-16,\n         9.80628628e-18,  1.00000000e+00]])"
     },
     "execution_count": 35,
     "metadata": {},
     "output_type": "execute_result"
    }
   ],
   "source": [
    "a@ia"
   ]
  },
  {
   "cell_type": "code",
   "execution_count": 36,
   "metadata": {},
   "outputs": [
    {
     "data": {
      "text/plain": "2.479809501090239"
     },
     "execution_count": 36,
     "metadata": {},
     "output_type": "execute_result"
    }
   ],
   "source": [
    "np.trace(a)"
   ]
  },
  {
   "cell_type": "code",
   "execution_count": 37,
   "metadata": {},
   "outputs": [
    {
     "data": {
      "text/plain": "(array([ 2.46180844,  0.6298556 ,  0.27433763, -0.55498645, -0.33120572]),\n array([[-0.48641445, -0.59885324, -0.1989024 , -0.42109385,  0.6121471 ],\n        [-0.37901691, -0.44318521,  0.48814686,  0.6518753 , -0.67468934],\n        [-0.58970511,  0.45655092, -0.83780408,  0.11963839,  0.03171388],\n        [-0.40667094,  0.40958519,  0.12009281, -0.60369805,  0.0603594 ],\n        [-0.32651769,  0.26222679, -0.07623986,  0.13774567,  0.40672005]]))"
     },
     "execution_count": 37,
     "metadata": {},
     "output_type": "execute_result"
    }
   ],
   "source": [
    "np.linalg.eig(a)"
   ]
  },
  {
   "cell_type": "code",
   "execution_count": 38,
   "metadata": {},
   "outputs": [],
   "source": [
    "a = np.arange(30)"
   ]
  },
  {
   "cell_type": "code",
   "execution_count": 47,
   "metadata": {},
   "outputs": [],
   "source": [
    "a.shape = 5,-1,3"
   ]
  },
  {
   "cell_type": "code",
   "execution_count": 48,
   "metadata": {},
   "outputs": [
    {
     "data": {
      "text/plain": "(5, 2, 3)"
     },
     "execution_count": 48,
     "metadata": {},
     "output_type": "execute_result"
    }
   ],
   "source": [
    "a.shape"
   ]
  },
  {
   "cell_type": "code",
   "execution_count": 49,
   "metadata": {},
   "outputs": [],
   "source": [
    "import matplotlib.pyplot as plt"
   ]
  },
  {
   "cell_type": "code",
   "execution_count": 53,
   "metadata": {},
   "outputs": [],
   "source": [
    "mu, sigma = 2, 0.5\n",
    "v = np.random.normal(mu, sigma, 10000)"
   ]
  },
  {
   "cell_type": "code",
   "execution_count": 52,
   "metadata": {},
   "outputs": [
    {
     "data": {
      "text/plain": "array([1.9916206 , 2.06738855, 2.83259938, ..., 1.76682484, 1.79051628,\n       2.17582494])"
     },
     "execution_count": 52,
     "metadata": {},
     "output_type": "execute_result"
    }
   ],
   "source": [
    "v"
   ]
  },
  {
   "cell_type": "code",
   "execution_count": 54,
   "metadata": {},
   "outputs": [],
   "source": [
    "(n, bins) = np.histogram(v, bins = 50, density = True)"
   ]
  },
  {
   "cell_type": "code",
   "execution_count": 55,
   "metadata": {},
   "outputs": [
    {
     "data": {
      "text/plain": "array([0.00126163, 0.00126163, 0.00126163, 0.00252326, 0.00126163,\n       0.0037849 , 0.0037849 , 0.00756979, 0.01766285, 0.01387795,\n       0.0277559 , 0.03784895, 0.0832677 , 0.10976197, 0.09840728,\n       0.1942913 , 0.21447741, 0.25863452, 0.33559406, 0.43021645,\n       0.50339109, 0.53745515, 0.70272892, 0.72039176, 0.72165339,\n       0.76454887, 0.79482804, 0.85160147, 0.73174645, 0.75445582,\n       0.64721712, 0.61062979, 0.50339109, 0.42769318, 0.37596628,\n       0.28512879, 0.23466352, 0.18041335, 0.13120971, 0.09336075,\n       0.0517269 , 0.04163385, 0.03784895, 0.0277559 , 0.00883142,\n       0.01640121, 0.00756979, 0.0037849 , 0.00126163, 0.00252326])"
     },
     "execution_count": 55,
     "metadata": {},
     "output_type": "execute_result"
    }
   ],
   "source": [
    "n"
   ]
  },
  {
   "cell_type": "code",
   "execution_count": 56,
   "metadata": {},
   "outputs": [
    {
     "data": {
      "text/plain": "array([-0.11292098, -0.03365855,  0.04560388,  0.12486631,  0.20412874,\n        0.28339116,  0.36265359,  0.44191602,  0.52117845,  0.60044088,\n        0.6797033 ,  0.75896573,  0.83822816,  0.91749059,  0.99675302,\n        1.07601544,  1.15527787,  1.2345403 ,  1.31380273,  1.39306516,\n        1.47232758,  1.55159001,  1.63085244,  1.71011487,  1.7893773 ,\n        1.86863972,  1.94790215,  2.02716458,  2.10642701,  2.18568944,\n        2.26495186,  2.34421429,  2.42347672,  2.50273915,  2.58200157,\n        2.661264  ,  2.74052643,  2.81978886,  2.89905129,  2.97831371,\n        3.05757614,  3.13683857,  3.216101  ,  3.29536343,  3.37462585,\n        3.45388828,  3.53315071,  3.61241314,  3.69167557,  3.77093799,\n        3.85020042])"
     },
     "execution_count": 56,
     "metadata": {},
     "output_type": "execute_result"
    }
   ],
   "source": [
    "bins"
   ]
  },
  {
   "cell_type": "code",
   "execution_count": 61,
   "metadata": {},
   "outputs": [
    {
     "data": {
      "text/plain": "[<matplotlib.lines.Line2D at 0x13c86aaf2b0>]"
     },
     "execution_count": 61,
     "metadata": {},
     "output_type": "execute_result"
    },
    {
     "data": {
      "image/png": "[encoded data removed]",
      "image/svg+xml": "<?xml version=\"1.0\" encoding=\"utf-8\" standalone=\"no\"?>\r\n<!DOCTYPE svg PUBLIC \"-//W3C//DTD SVG 1.1//EN\"\r\n  \"http://www.w3.org/Graphics/SVG/1.1/DTD/svg11.dtd\">\r\n<!-- Created with matplotlib (https://matplotlib.org/) -->\r\n<svg height=\"248.518125pt\" version=\"1.1\" viewBox=\"0 0 376.340959 248.518125\" width=\"376.340959pt\" xmlns=\"http://www.w3.org/2000/svg\" xmlns:xlink=\"http://www.w3.org/1999/xlink\">\r\n <defs>\r\n  <style type=\"text/css\">\r\n*{stroke-linecap:butt;stroke-linejoin:round;}\r\n  </style>\r\n </defs>\r\n <g id=\"figure_1\">\r\n  <g id=\"patch_1\">\r\n   <path d=\"M 0 248.518125 \r\nL 376.340959 248.518125 \r\nL 376.340959 0 \r\nL 0 0 \r\nz\r\n\" style=\"fill:none;\"/>\r\n  </g>\r\n  <g id=\"axes_1\">\r\n   <g id=\"patch_2\">\r\n    <path d=\"M 30.103125 224.64 \r\nL 364.903125 224.64 \r\nL 364.903125 7.2 \r\nL 30.103125 7.2 \r\nz\r\n\" style=\"fill:#ffffff;\"/>\r\n   </g>\r\n   <g id=\"patch_3\">\r\n    <path clip-path=\"url(#p219e6546a4)\" d=\"M 45.321307 224.64 \r\nL 51.40858 224.64 \r\nL 51.40858 224.333206 \r\nL 45.321307 224.333206 \r\nz\r\n\" style=\"fill:#1f77b4;\"/>\r\n   </g>\r\n   <g id=\"patch_4\">\r\n    <path clip-path=\"url(#p219e6546a4)\" d=\"M 51.40858 224.64 \r\nL 57.495852 224.64 \r\nL 57.495852 224.333206 \r\nL 51.40858 224.333206 \r\nz\r\n\" style=\"fill:#1f77b4;\"/>\r\n   </g>\r\n   <g id=\"patch_5\">\r\n    <path clip-path=\"url(#p219e6546a4)\" d=\"M 57.495852 224.64 \r\nL 63.583125 224.64 \r\nL 63.583125 224.333206 \r\nL 57.495852 224.333206 \r\nz\r\n\" style=\"fill:#1f77b4;\"/>\r\n   </g>\r\n   <g id=\"patch_6\">\r\n    <path clip-path=\"url(#p219e6546a4)\" d=\"M 63.583125 224.64 \r\nL 69.670398 224.64 \r\nL 69.670398 224.026413 \r\nL 63.583125 224.026413 \r\nz\r\n\" style=\"fill:#1f77b4;\"/>\r\n   </g>\r\n   <g id=\"patch_7\">\r\n    <path clip-path=\"url(#p219e6546a4)\" d=\"M 69.670398 224.64 \r\nL 75.75767 224.64 \r\nL 75.75767 224.333206 \r\nL 69.670398 224.333206 \r\nz\r\n\" style=\"fill:#1f77b4;\"/>\r\n   </g>\r\n   <g id=\"patch_8\">\r\n    <path clip-path=\"url(#p219e6546a4)\" d=\"M 75.75767 224.64 \r\nL 81.844943 224.64 \r\nL 81.844943 223.719619 \r\nL 75.75767 223.719619 \r\nz\r\n\" style=\"fill:#1f77b4;\"/>\r\n   </g>\r\n   <g id=\"patch_9\">\r\n    <path clip-path=\"url(#p219e6546a4)\" d=\"M 81.844943 224.64 \r\nL 87.932216 224.64 \r\nL 87.932216 223.719619 \r\nL 81.844943 223.719619 \r\nz\r\n\" style=\"fill:#1f77b4;\"/>\r\n   </g>\r\n   <g id=\"patch_10\">\r\n    <path clip-path=\"url(#p219e6546a4)\" d=\"M 87.932216 224.64 \r\nL 94.019489 224.64 \r\nL 94.019489 222.799238 \r\nL 87.932216 222.799238 \r\nz\r\n\" style=\"fill:#1f77b4;\"/>\r\n   </g>\r\n   <g id=\"patch_11\">\r\n    <path clip-path=\"url(#p219e6546a4)\" d=\"M 94.019489 224.64 \r\nL 100.106761 224.64 \r\nL 100.106761 220.344889 \r\nL 94.019489 220.344889 \r\nz\r\n\" style=\"fill:#1f77b4;\"/>\r\n   </g>\r\n   <g id=\"patch_12\">\r\n    <path clip-path=\"url(#p219e6546a4)\" d=\"M 100.106761 224.64 \r\nL 106.194034 224.64 \r\nL 106.194034 221.26527 \r\nL 100.106761 221.26527 \r\nz\r\n\" style=\"fill:#1f77b4;\"/>\r\n   </g>\r\n   <g id=\"patch_13\">\r\n    <path clip-path=\"url(#p219e6546a4)\" d=\"M 106.194034 224.64 \r\nL 112.281307 224.64 \r\nL 112.281307 217.89054 \r\nL 106.194034 217.89054 \r\nz\r\n\" style=\"fill:#1f77b4;\"/>\r\n   </g>\r\n   <g id=\"patch_14\">\r\n    <path clip-path=\"url(#p219e6546a4)\" d=\"M 112.281307 224.64 \r\nL 118.36858 224.64 \r\nL 118.36858 215.43619 \r\nL 112.281307 215.43619 \r\nz\r\n\" style=\"fill:#1f77b4;\"/>\r\n   </g>\r\n   <g id=\"patch_15\">\r\n    <path clip-path=\"url(#p219e6546a4)\" d=\"M 118.36858 224.64 \r\nL 124.455852 224.64 \r\nL 124.455852 204.391619 \r\nL 118.36858 204.391619 \r\nz\r\n\" style=\"fill:#1f77b4;\"/>\r\n   </g>\r\n   <g id=\"patch_16\">\r\n    <path clip-path=\"url(#p219e6546a4)\" d=\"M 124.455852 224.64 \r\nL 130.543125 224.64 \r\nL 130.543125 197.948952 \r\nL 124.455852 197.948952 \r\nz\r\n\" style=\"fill:#1f77b4;\"/>\r\n   </g>\r\n   <g id=\"patch_17\">\r\n    <path clip-path=\"url(#p219e6546a4)\" d=\"M 130.543125 224.64 \r\nL 136.630398 224.64 \r\nL 136.630398 200.710095 \r\nL 130.543125 200.710095 \r\nz\r\n\" style=\"fill:#1f77b4;\"/>\r\n   </g>\r\n   <g id=\"patch_18\">\r\n    <path clip-path=\"url(#p219e6546a4)\" d=\"M 136.630398 224.64 \r\nL 142.71767 224.64 \r\nL 142.71767 177.393778 \r\nL 136.630398 177.393778 \r\nz\r\n\" style=\"fill:#1f77b4;\"/>\r\n   </g>\r\n   <g id=\"patch_19\">\r\n    <path clip-path=\"url(#p219e6546a4)\" d=\"M 142.71767 224.64 \r\nL 148.804943 224.64 \r\nL 148.804943 172.485079 \r\nL 142.71767 172.485079 \r\nz\r\n\" style=\"fill:#1f77b4;\"/>\r\n   </g>\r\n   <g id=\"patch_20\">\r\n    <path clip-path=\"url(#p219e6546a4)\" d=\"M 148.804943 224.64 \r\nL 154.892216 224.64 \r\nL 154.892216 161.747302 \r\nL 148.804943 161.747302 \r\nz\r\n\" style=\"fill:#1f77b4;\"/>\r\n   </g>\r\n   <g id=\"patch_21\">\r\n    <path clip-path=\"url(#p219e6546a4)\" d=\"M 154.892216 224.64 \r\nL 160.979489 224.64 \r\nL 160.979489 143.032889 \r\nL 154.892216 143.032889 \r\nz\r\n\" style=\"fill:#1f77b4;\"/>\r\n   </g>\r\n   <g id=\"patch_22\">\r\n    <path clip-path=\"url(#p219e6546a4)\" d=\"M 160.979489 224.64 \r\nL 167.066761 224.64 \r\nL 167.066761 120.023365 \r\nL 160.979489 120.023365 \r\nz\r\n\" style=\"fill:#1f77b4;\"/>\r\n   </g>\r\n   <g id=\"patch_23\">\r\n    <path clip-path=\"url(#p219e6546a4)\" d=\"M 167.066761 224.64 \r\nL 173.154034 224.64 \r\nL 173.154034 102.229333 \r\nL 167.066761 102.229333 \r\nz\r\n\" style=\"fill:#1f77b4;\"/>\r\n   </g>\r\n   <g id=\"patch_24\">\r\n    <path clip-path=\"url(#p219e6546a4)\" d=\"M 173.154034 224.64 \r\nL 179.241307 224.64 \r\nL 179.241307 93.945905 \r\nL 173.154034 93.945905 \r\nz\r\n\" style=\"fill:#1f77b4;\"/>\r\n   </g>\r\n   <g id=\"patch_25\">\r\n    <path clip-path=\"url(#p219e6546a4)\" d=\"M 179.241307 224.64 \r\nL 185.32858 224.64 \r\nL 185.32858 53.755937 \r\nL 179.241307 53.755937 \r\nz\r\n\" style=\"fill:#1f77b4;\"/>\r\n   </g>\r\n   <g id=\"patch_26\">\r\n    <path clip-path=\"url(#p219e6546a4)\" d=\"M 185.32858 224.64 \r\nL 191.415852 224.64 \r\nL 191.415852 49.460825 \r\nL 185.32858 49.460825 \r\nz\r\n\" style=\"fill:#1f77b4;\"/>\r\n   </g>\r\n   <g id=\"patch_27\">\r\n    <path clip-path=\"url(#p219e6546a4)\" d=\"M 191.415852 224.64 \r\nL 197.503125 224.64 \r\nL 197.503125 49.154032 \r\nL 191.415852 49.154032 \r\nz\r\n\" style=\"fill:#1f77b4;\"/>\r\n   </g>\r\n   <g id=\"patch_28\">\r\n    <path clip-path=\"url(#p219e6546a4)\" d=\"M 197.503125 224.64 \r\nL 203.590398 224.64 \r\nL 203.590398 38.723048 \r\nL 197.503125 38.723048 \r\nz\r\n\" style=\"fill:#1f77b4;\"/>\r\n   </g>\r\n   <g id=\"patch_29\">\r\n    <path clip-path=\"url(#p219e6546a4)\" d=\"M 203.590398 224.64 \r\nL 209.67767 224.64 \r\nL 209.67767 31.36 \r\nL 203.590398 31.36 \r\nz\r\n\" style=\"fill:#1f77b4;\"/>\r\n   </g>\r\n   <g id=\"patch_30\">\r\n    <path clip-path=\"url(#p219e6546a4)\" d=\"M 209.67767 224.64 \r\nL 215.764943 224.64 \r\nL 215.764943 17.554286 \r\nL 209.67767 17.554286 \r\nz\r\n\" style=\"fill:#1f77b4;\"/>\r\n   </g>\r\n   <g id=\"patch_31\">\r\n    <path clip-path=\"url(#p219e6546a4)\" d=\"M 215.764943 224.64 \r\nL 221.852216 224.64 \r\nL 221.852216 46.699683 \r\nL 215.764943 46.699683 \r\nz\r\n\" style=\"fill:#1f77b4;\"/>\r\n   </g>\r\n   <g id=\"patch_32\">\r\n    <path clip-path=\"url(#p219e6546a4)\" d=\"M 221.852216 224.64 \r\nL 227.939489 224.64 \r\nL 227.939489 41.177397 \r\nL 221.852216 41.177397 \r\nz\r\n\" style=\"fill:#1f77b4;\"/>\r\n   </g>\r\n   <g id=\"patch_33\">\r\n    <path clip-path=\"url(#p219e6546a4)\" d=\"M 227.939489 224.64 \r\nL 234.026761 224.64 \r\nL 234.026761 67.254857 \r\nL 227.939489 67.254857 \r\nz\r\n\" style=\"fill:#1f77b4;\"/>\r\n   </g>\r\n   <g id=\"patch_34\">\r\n    <path clip-path=\"url(#p219e6546a4)\" d=\"M 234.026761 224.64 \r\nL 240.114034 224.64 \r\nL 240.114034 76.151873 \r\nL 234.026761 76.151873 \r\nz\r\n\" style=\"fill:#1f77b4;\"/>\r\n   </g>\r\n   <g id=\"patch_35\">\r\n    <path clip-path=\"url(#p219e6546a4)\" d=\"M 240.114034 224.64 \r\nL 246.201307 224.64 \r\nL 246.201307 102.229333 \r\nL 240.114034 102.229333 \r\nz\r\n\" style=\"fill:#1f77b4;\"/>\r\n   </g>\r\n   <g id=\"patch_36\">\r\n    <path clip-path=\"url(#p219e6546a4)\" d=\"M 246.201307 224.64 \r\nL 252.28858 224.64 \r\nL 252.28858 120.636952 \r\nL 246.201307 120.636952 \r\nz\r\n\" style=\"fill:#1f77b4;\"/>\r\n   </g>\r\n   <g id=\"patch_37\">\r\n    <path clip-path=\"url(#p219e6546a4)\" d=\"M 252.28858 224.64 \r\nL 258.375852 224.64 \r\nL 258.375852 133.215492 \r\nL 252.28858 133.215492 \r\nz\r\n\" style=\"fill:#1f77b4;\"/>\r\n   </g>\r\n   <g id=\"patch_38\">\r\n    <path clip-path=\"url(#p219e6546a4)\" d=\"M 258.375852 224.64 \r\nL 264.463125 224.64 \r\nL 264.463125 155.304635 \r\nL 258.375852 155.304635 \r\nz\r\n\" style=\"fill:#1f77b4;\"/>\r\n   </g>\r\n   <g id=\"patch_39\">\r\n    <path clip-path=\"url(#p219e6546a4)\" d=\"M 264.463125 224.64 \r\nL 270.550398 224.64 \r\nL 270.550398 167.576381 \r\nL 264.463125 167.576381 \r\nz\r\n\" style=\"fill:#1f77b4;\"/>\r\n   </g>\r\n   <g id=\"patch_40\">\r\n    <path clip-path=\"url(#p219e6546a4)\" d=\"M 270.550398 224.64 \r\nL 276.63767 224.64 \r\nL 276.63767 180.768508 \r\nL 270.550398 180.768508 \r\nz\r\n\" style=\"fill:#1f77b4;\"/>\r\n   </g>\r\n   <g id=\"patch_41\">\r\n    <path clip-path=\"url(#p219e6546a4)\" d=\"M 276.63767 224.64 \r\nL 282.724943 224.64 \r\nL 282.724943 192.73346 \r\nL 276.63767 192.73346 \r\nz\r\n\" style=\"fill:#1f77b4;\"/>\r\n   </g>\r\n   <g id=\"patch_42\">\r\n    <path clip-path=\"url(#p219e6546a4)\" d=\"M 282.724943 224.64 \r\nL 288.812216 224.64 \r\nL 288.812216 201.93727 \r\nL 282.724943 201.93727 \r\nz\r\n\" style=\"fill:#1f77b4;\"/>\r\n   </g>\r\n   <g id=\"patch_43\">\r\n    <path clip-path=\"url(#p219e6546a4)\" d=\"M 288.812216 224.64 \r\nL 294.899489 224.64 \r\nL 294.899489 212.06146 \r\nL 288.812216 212.06146 \r\nz\r\n\" style=\"fill:#1f77b4;\"/>\r\n   </g>\r\n   <g id=\"patch_44\">\r\n    <path clip-path=\"url(#p219e6546a4)\" d=\"M 294.899489 224.64 \r\nL 300.986761 224.64 \r\nL 300.986761 214.51581 \r\nL 294.899489 214.51581 \r\nz\r\n\" style=\"fill:#1f77b4;\"/>\r\n   </g>\r\n   <g id=\"patch_45\">\r\n    <path clip-path=\"url(#p219e6546a4)\" d=\"M 300.986761 224.64 \r\nL 307.074034 224.64 \r\nL 307.074034 215.43619 \r\nL 300.986761 215.43619 \r\nz\r\n\" style=\"fill:#1f77b4;\"/>\r\n   </g>\r\n   <g id=\"patch_46\">\r\n    <path clip-path=\"url(#p219e6546a4)\" d=\"M 307.074034 224.64 \r\nL 313.161307 224.64 \r\nL 313.161307 217.89054 \r\nL 307.074034 217.89054 \r\nz\r\n\" style=\"fill:#1f77b4;\"/>\r\n   </g>\r\n   <g id=\"patch_47\">\r\n    <path clip-path=\"url(#p219e6546a4)\" d=\"M 313.161307 224.64 \r\nL 319.24858 224.64 \r\nL 319.24858 222.492444 \r\nL 313.161307 222.492444 \r\nz\r\n\" style=\"fill:#1f77b4;\"/>\r\n   </g>\r\n   <g id=\"patch_48\">\r\n    <path clip-path=\"url(#p219e6546a4)\" d=\"M 319.24858 224.64 \r\nL 325.335852 224.64 \r\nL 325.335852 220.651683 \r\nL 319.24858 220.651683 \r\nz\r\n\" style=\"fill:#1f77b4;\"/>\r\n   </g>\r\n   <g id=\"patch_49\">\r\n    <path clip-path=\"url(#p219e6546a4)\" d=\"M 325.335852 224.64 \r\nL 331.423125 224.64 \r\nL 331.423125 222.799238 \r\nL 325.335852 222.799238 \r\nz\r\n\" style=\"fill:#1f77b4;\"/>\r\n   </g>\r\n   <g id=\"patch_50\">\r\n    <path clip-path=\"url(#p219e6546a4)\" d=\"M 331.423125 224.64 \r\nL 337.510398 224.64 \r\nL 337.510398 223.719619 \r\nL 331.423125 223.719619 \r\nz\r\n\" style=\"fill:#1f77b4;\"/>\r\n   </g>\r\n   <g id=\"patch_51\">\r\n    <path clip-path=\"url(#p219e6546a4)\" d=\"M 337.510398 224.64 \r\nL 343.59767 224.64 \r\nL 343.59767 224.333206 \r\nL 337.510398 224.333206 \r\nz\r\n\" style=\"fill:#1f77b4;\"/>\r\n   </g>\r\n   <g id=\"patch_52\">\r\n    <path clip-path=\"url(#p219e6546a4)\" d=\"M 343.59767 224.64 \r\nL 349.684943 224.64 \r\nL 349.684943 224.026413 \r\nL 343.59767 224.026413 \r\nz\r\n\" style=\"fill:#1f77b4;\"/>\r\n   </g>\r\n   <g id=\"matplotlib.axis_1\">\r\n    <g id=\"xtick_1\">\r\n     <g id=\"line2d_1\">\r\n      <defs>\r\n       <path d=\"M 0 0 \r\nL 0 3.5 \r\n\" id=\"m170f967b73\" style=\"stroke:#000000;stroke-width:0.8;\"/>\r\n      </defs>\r\n      <g>\r\n       <use style=\"stroke:#000000;stroke-width:0.8;\" x=\"53.993521\" xlink:href=\"#m170f967b73\" y=\"224.64\"/>\r\n      </g>\r\n     </g>\r\n     <g id=\"text_1\">\r\n      <!-- 0.0 -->\r\n      <defs>\r\n       <path d=\"M 31.78125 66.40625 \r\nQ 24.171875 66.40625 20.328125 58.90625 \r\nQ 16.5 51.421875 16.5 36.375 \r\nQ 16.5 21.390625 20.328125 13.890625 \r\nQ 24.171875 6.390625 31.78125 6.390625 \r\nQ 39.453125 6.390625 43.28125 13.890625 \r\nQ 47.125 21.390625 47.125 36.375 \r\nQ 47.125 51.421875 43.28125 58.90625 \r\nQ 39.453125 66.40625 31.78125 66.40625 \r\nz\r\nM 31.78125 74.21875 \r\nQ 44.046875 74.21875 50.515625 64.515625 \r\nQ 56.984375 54.828125 56.984375 36.375 \r\nQ 56.984375 17.96875 50.515625 8.265625 \r\nQ 44.046875 -1.421875 31.78125 -1.421875 \r\nQ 19.53125 -1.421875 13.0625 8.265625 \r\nQ 6.59375 17.96875 6.59375 36.375 \r\nQ 6.59375 54.828125 13.0625 64.515625 \r\nQ 19.53125 74.21875 31.78125 74.21875 \r\nz\r\n\" id=\"DejaVuSans-48\"/>\r\n       <path d=\"M 10.6875 12.40625 \r\nL 21 12.40625 \r\nL 21 0 \r\nL 10.6875 0 \r\nz\r\n\" id=\"DejaVuSans-46\"/>\r\n      </defs>\r\n      <g transform=\"translate(46.041959 239.238437)scale(0.1 -0.1)\">\r\n       <use xlink:href=\"#DejaVuSans-48\"/>\r\n       <use x=\"63.623047\" xlink:href=\"#DejaVuSans-46\"/>\r\n       <use x=\"95.410156\" xlink:href=\"#DejaVuSans-48\"/>\r\n      </g>\r\n     </g>\r\n    </g>\r\n    <g id=\"xtick_2\">\r\n     <g id=\"line2d_2\">\r\n      <g>\r\n       <use style=\"stroke:#000000;stroke-width:0.8;\" x=\"92.393006\" xlink:href=\"#m170f967b73\" y=\"224.64\"/>\r\n      </g>\r\n     </g>\r\n     <g id=\"text_2\">\r\n      <!-- 0.5 -->\r\n      <defs>\r\n       <path d=\"M 10.796875 72.90625 \r\nL 49.515625 72.90625 \r\nL 49.515625 64.59375 \r\nL 19.828125 64.59375 \r\nL 19.828125 46.734375 \r\nQ 21.96875 47.46875 24.109375 47.828125 \r\nQ 26.265625 48.1875 28.421875 48.1875 \r\nQ 40.625 48.1875 47.75 41.5 \r\nQ 54.890625 34.8125 54.890625 23.390625 \r\nQ 54.890625 11.625 47.5625 5.09375 \r\nQ 40.234375 -1.421875 26.90625 -1.421875 \r\nQ 22.3125 -1.421875 17.546875 -0.640625 \r\nQ 12.796875 0.140625 7.71875 1.703125 \r\nL 7.71875 11.625 \r\nQ 12.109375 9.234375 16.796875 8.0625 \r\nQ 21.484375 6.890625 26.703125 6.890625 \r\nQ 35.15625 6.890625 40.078125 11.328125 \r\nQ 45.015625 15.765625 45.015625 23.390625 \r\nQ 45.015625 31 40.078125 35.4375 \r\nQ 35.15625 39.890625 26.703125 39.890625 \r\nQ 22.75 39.890625 18.8125 39.015625 \r\nQ 14.890625 38.140625 10.796875 36.28125 \r\nz\r\n\" id=\"DejaVuSans-53\"/>\r\n      </defs>\r\n      <g transform=\"translate(84.441443 239.238437)scale(0.1 -0.1)\">\r\n       <use xlink:href=\"#DejaVuSans-48\"/>\r\n       <use x=\"63.623047\" xlink:href=\"#DejaVuSans-46\"/>\r\n       <use x=\"95.410156\" xlink:href=\"#DejaVuSans-53\"/>\r\n      </g>\r\n     </g>\r\n    </g>\r\n    <g id=\"xtick_3\">\r\n     <g id=\"line2d_3\">\r\n      <g>\r\n       <use style=\"stroke:#000000;stroke-width:0.8;\" x=\"130.79249\" xlink:href=\"#m170f967b73\" y=\"224.64\"/>\r\n      </g>\r\n     </g>\r\n     <g id=\"text_3\">\r\n      <!-- 1.0 -->\r\n      <defs>\r\n       <path d=\"M 12.40625 8.296875 \r\nL 28.515625 8.296875 \r\nL 28.515625 63.921875 \r\nL 10.984375 60.40625 \r\nL 10.984375 69.390625 \r\nL 28.421875 72.90625 \r\nL 38.28125 72.90625 \r\nL 38.28125 8.296875 \r\nL 54.390625 8.296875 \r\nL 54.390625 0 \r\nL 12.40625 0 \r\nz\r\n\" id=\"DejaVuSans-49\"/>\r\n      </defs>\r\n      <g transform=\"translate(122.840928 239.238437)scale(0.1 -0.1)\">\r\n       <use xlink:href=\"#DejaVuSans-49\"/>\r\n       <use x=\"63.623047\" xlink:href=\"#DejaVuSans-46\"/>\r\n       <use x=\"95.410156\" xlink:href=\"#DejaVuSans-48\"/>\r\n      </g>\r\n     </g>\r\n    </g>\r\n    <g id=\"xtick_4\">\r\n     <g id=\"line2d_4\">\r\n      <g>\r\n       <use style=\"stroke:#000000;stroke-width:0.8;\" x=\"169.191974\" xlink:href=\"#m170f967b73\" y=\"224.64\"/>\r\n      </g>\r\n     </g>\r\n     <g id=\"text_4\">\r\n      <!-- 1.5 -->\r\n      <g transform=\"translate(161.240412 239.238437)scale(0.1 -0.1)\">\r\n       <use xlink:href=\"#DejaVuSans-49\"/>\r\n       <use x=\"63.623047\" xlink:href=\"#DejaVuSans-46\"/>\r\n       <use x=\"95.410156\" xlink:href=\"#DejaVuSans-53\"/>\r\n      </g>\r\n     </g>\r\n    </g>\r\n    <g id=\"xtick_5\">\r\n     <g id=\"line2d_5\">\r\n      <g>\r\n       <use style=\"stroke:#000000;stroke-width:0.8;\" x=\"207.591459\" xlink:href=\"#m170f967b73\" y=\"224.64\"/>\r\n      </g>\r\n     </g>\r\n     <g id=\"text_5\">\r\n      <!-- 2.0 -->\r\n      <defs>\r\n       <path d=\"M 19.1875 8.296875 \r\nL 53.609375 8.296875 \r\nL 53.609375 0 \r\nL 7.328125 0 \r\nL 7.328125 8.296875 \r\nQ 12.9375 14.109375 22.625 23.890625 \r\nQ 32.328125 33.6875 34.8125 36.53125 \r\nQ 39.546875 41.84375 41.421875 45.53125 \r\nQ 43.3125 49.21875 43.3125 52.78125 \r\nQ 43.3125 58.59375 39.234375 62.25 \r\nQ 35.15625 65.921875 28.609375 65.921875 \r\nQ 23.96875 65.921875 18.8125 64.3125 \r\nQ 13.671875 62.703125 7.8125 59.421875 \r\nL 7.8125 69.390625 \r\nQ 13.765625 71.78125 18.9375 73 \r\nQ 24.125 74.21875 28.421875 74.21875 \r\nQ 39.75 74.21875 46.484375 68.546875 \r\nQ 53.21875 62.890625 53.21875 53.421875 \r\nQ 53.21875 48.921875 51.53125 44.890625 \r\nQ 49.859375 40.875 45.40625 35.40625 \r\nQ 44.1875 33.984375 37.640625 27.21875 \r\nQ 31.109375 20.453125 19.1875 8.296875 \r\nz\r\n\" id=\"DejaVuSans-50\"/>\r\n      </defs>\r\n      <g transform=\"translate(199.639896 239.238437)scale(0.1 -0.1)\">\r\n       <use xlink:href=\"#DejaVuSans-50\"/>\r\n       <use x=\"63.623047\" xlink:href=\"#DejaVuSans-46\"/>\r\n       <use x=\"95.410156\" xlink:href=\"#DejaVuSans-48\"/>\r\n      </g>\r\n     </g>\r\n    </g>\r\n    <g id=\"xtick_6\">\r\n     <g id=\"line2d_6\">\r\n      <g>\r\n       <use style=\"stroke:#000000;stroke-width:0.8;\" x=\"245.990943\" xlink:href=\"#m170f967b73\" y=\"224.64\"/>\r\n      </g>\r\n     </g>\r\n     <g id=\"text_6\">\r\n      <!-- 2.5 -->\r\n      <g transform=\"translate(238.039381 239.238437)scale(0.1 -0.1)\">\r\n       <use xlink:href=\"#DejaVuSans-50\"/>\r\n       <use x=\"63.623047\" xlink:href=\"#DejaVuSans-46\"/>\r\n       <use x=\"95.410156\" xlink:href=\"#DejaVuSans-53\"/>\r\n      </g>\r\n     </g>\r\n    </g>\r\n    <g id=\"xtick_7\">\r\n     <g id=\"line2d_7\">\r\n      <g>\r\n       <use style=\"stroke:#000000;stroke-width:0.8;\" x=\"284.390428\" xlink:href=\"#m170f967b73\" y=\"224.64\"/>\r\n      </g>\r\n     </g>\r\n     <g id=\"text_7\">\r\n      <!-- 3.0 -->\r\n      <defs>\r\n       <path d=\"M 40.578125 39.3125 \r\nQ 47.65625 37.796875 51.625 33 \r\nQ 55.609375 28.21875 55.609375 21.1875 \r\nQ 55.609375 10.40625 48.1875 4.484375 \r\nQ 40.765625 -1.421875 27.09375 -1.421875 \r\nQ 22.515625 -1.421875 17.65625 -0.515625 \r\nQ 12.796875 0.390625 7.625 2.203125 \r\nL 7.625 11.71875 \r\nQ 11.71875 9.328125 16.59375 8.109375 \r\nQ 21.484375 6.890625 26.8125 6.890625 \r\nQ 36.078125 6.890625 40.9375 10.546875 \r\nQ 45.796875 14.203125 45.796875 21.1875 \r\nQ 45.796875 27.640625 41.28125 31.265625 \r\nQ 36.765625 34.90625 28.71875 34.90625 \r\nL 20.21875 34.90625 \r\nL 20.21875 43.015625 \r\nL 29.109375 43.015625 \r\nQ 36.375 43.015625 40.234375 45.921875 \r\nQ 44.09375 48.828125 44.09375 54.296875 \r\nQ 44.09375 59.90625 40.109375 62.90625 \r\nQ 36.140625 65.921875 28.71875 65.921875 \r\nQ 24.65625 65.921875 20.015625 65.03125 \r\nQ 15.375 64.15625 9.8125 62.3125 \r\nL 9.8125 71.09375 \r\nQ 15.4375 72.65625 20.34375 73.4375 \r\nQ 25.25 74.21875 29.59375 74.21875 \r\nQ 40.828125 74.21875 47.359375 69.109375 \r\nQ 53.90625 64.015625 53.90625 55.328125 \r\nQ 53.90625 49.265625 50.4375 45.09375 \r\nQ 46.96875 40.921875 40.578125 39.3125 \r\nz\r\n\" id=\"DejaVuSans-51\"/>\r\n      </defs>\r\n      <g transform=\"translate(276.438865 239.238437)scale(0.1 -0.1)\">\r\n       <use xlink:href=\"#DejaVuSans-51\"/>\r\n       <use x=\"63.623047\" xlink:href=\"#DejaVuSans-46\"/>\r\n       <use x=\"95.410156\" xlink:href=\"#DejaVuSans-48\"/>\r\n      </g>\r\n     </g>\r\n    </g>\r\n    <g id=\"xtick_8\">\r\n     <g id=\"line2d_8\">\r\n      <g>\r\n       <use style=\"stroke:#000000;stroke-width:0.8;\" x=\"322.789912\" xlink:href=\"#m170f967b73\" y=\"224.64\"/>\r\n      </g>\r\n     </g>\r\n     <g id=\"text_8\">\r\n      <!-- 3.5 -->\r\n      <g transform=\"translate(314.838349 239.238437)scale(0.1 -0.1)\">\r\n       <use xlink:href=\"#DejaVuSans-51\"/>\r\n       <use x=\"63.623047\" xlink:href=\"#DejaVuSans-46\"/>\r\n       <use x=\"95.410156\" xlink:href=\"#DejaVuSans-53\"/>\r\n      </g>\r\n     </g>\r\n    </g>\r\n    <g id=\"xtick_9\">\r\n     <g id=\"line2d_9\">\r\n      <g>\r\n       <use style=\"stroke:#000000;stroke-width:0.8;\" x=\"361.189396\" xlink:href=\"#m170f967b73\" y=\"224.64\"/>\r\n      </g>\r\n     </g>\r\n     <g id=\"text_9\">\r\n      <!-- 4.0 -->\r\n      <defs>\r\n       <path d=\"M 37.796875 64.3125 \r\nL 12.890625 25.390625 \r\nL 37.796875 25.390625 \r\nz\r\nM 35.203125 72.90625 \r\nL 47.609375 72.90625 \r\nL 47.609375 25.390625 \r\nL 58.015625 25.390625 \r\nL 58.015625 17.1875 \r\nL 47.609375 17.1875 \r\nL 47.609375 0 \r\nL 37.796875 0 \r\nL 37.796875 17.1875 \r\nL 4.890625 17.1875 \r\nL 4.890625 26.703125 \r\nz\r\n\" id=\"DejaVuSans-52\"/>\r\n      </defs>\r\n      <g transform=\"translate(353.237834 239.238437)scale(0.1 -0.1)\">\r\n       <use xlink:href=\"#DejaVuSans-52\"/>\r\n       <use x=\"63.623047\" xlink:href=\"#DejaVuSans-46\"/>\r\n       <use x=\"95.410156\" xlink:href=\"#DejaVuSans-48\"/>\r\n      </g>\r\n     </g>\r\n    </g>\r\n   </g>\r\n   <g id=\"matplotlib.axis_2\">\r\n    <g id=\"ytick_1\">\r\n     <g id=\"line2d_10\">\r\n      <defs>\r\n       <path d=\"M 0 0 \r\nL -3.5 0 \r\n\" id=\"mee9f0513c3\" style=\"stroke:#000000;stroke-width:0.8;\"/>\r\n      </defs>\r\n      <g>\r\n       <use style=\"stroke:#000000;stroke-width:0.8;\" x=\"30.103125\" xlink:href=\"#mee9f0513c3\" y=\"224.64\"/>\r\n      </g>\r\n     </g>\r\n     <g id=\"text_10\">\r\n      <!-- 0.0 -->\r\n      <g transform=\"translate(7.2 228.439219)scale(0.1 -0.1)\">\r\n       <use xlink:href=\"#DejaVuSans-48\"/>\r\n       <use x=\"63.623047\" xlink:href=\"#DejaVuSans-46\"/>\r\n       <use x=\"95.410156\" xlink:href=\"#DejaVuSans-48\"/>\r\n      </g>\r\n     </g>\r\n    </g>\r\n    <g id=\"ytick_2\">\r\n     <g id=\"line2d_11\">\r\n      <g>\r\n       <use style=\"stroke:#000000;stroke-width:0.8;\" x=\"30.103125\" xlink:href=\"#mee9f0513c3\" y=\"200.32279\"/>\r\n      </g>\r\n     </g>\r\n     <g id=\"text_11\">\r\n      <!-- 0.1 -->\r\n      <g transform=\"translate(7.2 204.122009)scale(0.1 -0.1)\">\r\n       <use xlink:href=\"#DejaVuSans-48\"/>\r\n       <use x=\"63.623047\" xlink:href=\"#DejaVuSans-46\"/>\r\n       <use x=\"95.410156\" xlink:href=\"#DejaVuSans-49\"/>\r\n      </g>\r\n     </g>\r\n    </g>\r\n    <g id=\"ytick_3\">\r\n     <g id=\"line2d_12\">\r\n      <g>\r\n       <use style=\"stroke:#000000;stroke-width:0.8;\" x=\"30.103125\" xlink:href=\"#mee9f0513c3\" y=\"176.005581\"/>\r\n      </g>\r\n     </g>\r\n     <g id=\"text_12\">\r\n      <!-- 0.2 -->\r\n      <g transform=\"translate(7.2 179.804799)scale(0.1 -0.1)\">\r\n       <use xlink:href=\"#DejaVuSans-48\"/>\r\n       <use x=\"63.623047\" xlink:href=\"#DejaVuSans-46\"/>\r\n       <use x=\"95.410156\" xlink:href=\"#DejaVuSans-50\"/>\r\n      </g>\r\n     </g>\r\n    </g>\r\n    <g id=\"ytick_4\">\r\n     <g id=\"line2d_13\">\r\n      <g>\r\n       <use style=\"stroke:#000000;stroke-width:0.8;\" x=\"30.103125\" xlink:href=\"#mee9f0513c3\" y=\"151.688371\"/>\r\n      </g>\r\n     </g>\r\n     <g id=\"text_13\">\r\n      <!-- 0.3 -->\r\n      <g transform=\"translate(7.2 155.48759)scale(0.1 -0.1)\">\r\n       <use xlink:href=\"#DejaVuSans-48\"/>\r\n       <use x=\"63.623047\" xlink:href=\"#DejaVuSans-46\"/>\r\n       <use x=\"95.410156\" xlink:href=\"#DejaVuSans-51\"/>\r\n      </g>\r\n     </g>\r\n    </g>\r\n    <g id=\"ytick_5\">\r\n     <g id=\"line2d_14\">\r\n      <g>\r\n       <use style=\"stroke:#000000;stroke-width:0.8;\" x=\"30.103125\" xlink:href=\"#mee9f0513c3\" y=\"127.371161\"/>\r\n      </g>\r\n     </g>\r\n     <g id=\"text_14\">\r\n      <!-- 0.4 -->\r\n      <g transform=\"translate(7.2 131.17038)scale(0.1 -0.1)\">\r\n       <use xlink:href=\"#DejaVuSans-48\"/>\r\n       <use x=\"63.623047\" xlink:href=\"#DejaVuSans-46\"/>\r\n       <use x=\"95.410156\" xlink:href=\"#DejaVuSans-52\"/>\r\n      </g>\r\n     </g>\r\n    </g>\r\n    <g id=\"ytick_6\">\r\n     <g id=\"line2d_15\">\r\n      <g>\r\n       <use style=\"stroke:#000000;stroke-width:0.8;\" x=\"30.103125\" xlink:href=\"#mee9f0513c3\" y=\"103.053952\"/>\r\n      </g>\r\n     </g>\r\n     <g id=\"text_15\">\r\n      <!-- 0.5 -->\r\n      <g transform=\"translate(7.2 106.853171)scale(0.1 -0.1)\">\r\n       <use xlink:href=\"#DejaVuSans-48\"/>\r\n       <use x=\"63.623047\" xlink:href=\"#DejaVuSans-46\"/>\r\n       <use x=\"95.410156\" xlink:href=\"#DejaVuSans-53\"/>\r\n      </g>\r\n     </g>\r\n    </g>\r\n    <g id=\"ytick_7\">\r\n     <g id=\"line2d_16\">\r\n      <g>\r\n       <use style=\"stroke:#000000;stroke-width:0.8;\" x=\"30.103125\" xlink:href=\"#mee9f0513c3\" y=\"78.736742\"/>\r\n      </g>\r\n     </g>\r\n     <g id=\"text_16\">\r\n      <!-- 0.6 -->\r\n      <defs>\r\n       <path d=\"M 33.015625 40.375 \r\nQ 26.375 40.375 22.484375 35.828125 \r\nQ 18.609375 31.296875 18.609375 23.390625 \r\nQ 18.609375 15.53125 22.484375 10.953125 \r\nQ 26.375 6.390625 33.015625 6.390625 \r\nQ 39.65625 6.390625 43.53125 10.953125 \r\nQ 47.40625 15.53125 47.40625 23.390625 \r\nQ 47.40625 31.296875 43.53125 35.828125 \r\nQ 39.65625 40.375 33.015625 40.375 \r\nz\r\nM 52.59375 71.296875 \r\nL 52.59375 62.3125 \r\nQ 48.875 64.0625 45.09375 64.984375 \r\nQ 41.3125 65.921875 37.59375 65.921875 \r\nQ 27.828125 65.921875 22.671875 59.328125 \r\nQ 17.53125 52.734375 16.796875 39.40625 \r\nQ 19.671875 43.65625 24.015625 45.921875 \r\nQ 28.375 48.1875 33.59375 48.1875 \r\nQ 44.578125 48.1875 50.953125 41.515625 \r\nQ 57.328125 34.859375 57.328125 23.390625 \r\nQ 57.328125 12.15625 50.6875 5.359375 \r\nQ 44.046875 -1.421875 33.015625 -1.421875 \r\nQ 20.359375 -1.421875 13.671875 8.265625 \r\nQ 6.984375 17.96875 6.984375 36.375 \r\nQ 6.984375 53.65625 15.1875 63.9375 \r\nQ 23.390625 74.21875 37.203125 74.21875 \r\nQ 40.921875 74.21875 44.703125 73.484375 \r\nQ 48.484375 72.75 52.59375 71.296875 \r\nz\r\n\" id=\"DejaVuSans-54\"/>\r\n      </defs>\r\n      <g transform=\"translate(7.2 82.535961)scale(0.1 -0.1)\">\r\n       <use xlink:href=\"#DejaVuSans-48\"/>\r\n       <use x=\"63.623047\" xlink:href=\"#DejaVuSans-46\"/>\r\n       <use x=\"95.410156\" xlink:href=\"#DejaVuSans-54\"/>\r\n      </g>\r\n     </g>\r\n    </g>\r\n    <g id=\"ytick_8\">\r\n     <g id=\"line2d_17\">\r\n      <g>\r\n       <use style=\"stroke:#000000;stroke-width:0.8;\" x=\"30.103125\" xlink:href=\"#mee9f0513c3\" y=\"54.419533\"/>\r\n      </g>\r\n     </g>\r\n     <g id=\"text_17\">\r\n      <!-- 0.7 -->\r\n      <defs>\r\n       <path d=\"M 8.203125 72.90625 \r\nL 55.078125 72.90625 \r\nL 55.078125 68.703125 \r\nL 28.609375 0 \r\nL 18.3125 0 \r\nL 43.21875 64.59375 \r\nL 8.203125 64.59375 \r\nz\r\n\" id=\"DejaVuSans-55\"/>\r\n      </defs>\r\n      <g transform=\"translate(7.2 58.218751)scale(0.1 -0.1)\">\r\n       <use xlink:href=\"#DejaVuSans-48\"/>\r\n       <use x=\"63.623047\" xlink:href=\"#DejaVuSans-46\"/>\r\n       <use x=\"95.410156\" xlink:href=\"#DejaVuSans-55\"/>\r\n      </g>\r\n     </g>\r\n    </g>\r\n    <g id=\"ytick_9\">\r\n     <g id=\"line2d_18\">\r\n      <g>\r\n       <use style=\"stroke:#000000;stroke-width:0.8;\" x=\"30.103125\" xlink:href=\"#mee9f0513c3\" y=\"30.102323\"/>\r\n      </g>\r\n     </g>\r\n     <g id=\"text_18\">\r\n      <!-- 0.8 -->\r\n      <defs>\r\n       <path d=\"M 31.78125 34.625 \r\nQ 24.75 34.625 20.71875 30.859375 \r\nQ 16.703125 27.09375 16.703125 20.515625 \r\nQ 16.703125 13.921875 20.71875 10.15625 \r\nQ 24.75 6.390625 31.78125 6.390625 \r\nQ 38.8125 6.390625 42.859375 10.171875 \r\nQ 46.921875 13.96875 46.921875 20.515625 \r\nQ 46.921875 27.09375 42.890625 30.859375 \r\nQ 38.875 34.625 31.78125 34.625 \r\nz\r\nM 21.921875 38.8125 \r\nQ 15.578125 40.375 12.03125 44.71875 \r\nQ 8.5 49.078125 8.5 55.328125 \r\nQ 8.5 64.0625 14.71875 69.140625 \r\nQ 20.953125 74.21875 31.78125 74.21875 \r\nQ 42.671875 74.21875 48.875 69.140625 \r\nQ 55.078125 64.0625 55.078125 55.328125 \r\nQ 55.078125 49.078125 51.53125 44.71875 \r\nQ 48 40.375 41.703125 38.8125 \r\nQ 48.828125 37.15625 52.796875 32.3125 \r\nQ 56.78125 27.484375 56.78125 20.515625 \r\nQ 56.78125 9.90625 50.3125 4.234375 \r\nQ 43.84375 -1.421875 31.78125 -1.421875 \r\nQ 19.734375 -1.421875 13.25 4.234375 \r\nQ 6.78125 9.90625 6.78125 20.515625 \r\nQ 6.78125 27.484375 10.78125 32.3125 \r\nQ 14.796875 37.15625 21.921875 38.8125 \r\nz\r\nM 18.3125 54.390625 \r\nQ 18.3125 48.734375 21.84375 45.5625 \r\nQ 25.390625 42.390625 31.78125 42.390625 \r\nQ 38.140625 42.390625 41.71875 45.5625 \r\nQ 45.3125 48.734375 45.3125 54.390625 \r\nQ 45.3125 60.0625 41.71875 63.234375 \r\nQ 38.140625 66.40625 31.78125 66.40625 \r\nQ 25.390625 66.40625 21.84375 63.234375 \r\nQ 18.3125 60.0625 18.3125 54.390625 \r\nz\r\n\" id=\"DejaVuSans-56\"/>\r\n      </defs>\r\n      <g transform=\"translate(7.2 33.901542)scale(0.1 -0.1)\">\r\n       <use xlink:href=\"#DejaVuSans-48\"/>\r\n       <use x=\"63.623047\" xlink:href=\"#DejaVuSans-46\"/>\r\n       <use x=\"95.410156\" xlink:href=\"#DejaVuSans-56\"/>\r\n      </g>\r\n     </g>\r\n    </g>\r\n   </g>\r\n   <g id=\"line2d_19\">\r\n    <path clip-path=\"url(#p219e6546a4)\" d=\"M 48.364943 224.333206 \r\nL 54.452216 224.333206 \r\nL 60.539489 224.333206 \r\nL 66.626761 224.026413 \r\nL 72.714034 224.333206 \r\nL 78.801307 223.719619 \r\nL 84.88858 223.719619 \r\nL 90.975852 222.799238 \r\nL 97.063125 220.344889 \r\nL 103.150398 221.26527 \r\nL 109.23767 217.89054 \r\nL 115.324943 215.43619 \r\nL 121.412216 204.391619 \r\nL 127.499489 197.948952 \r\nL 133.586761 200.710095 \r\nL 139.674034 177.393778 \r\nL 145.761307 172.485079 \r\nL 151.84858 161.747302 \r\nL 157.935852 143.032889 \r\nL 164.023125 120.023365 \r\nL 170.110398 102.229333 \r\nL 176.19767 93.945905 \r\nL 182.284943 53.755937 \r\nL 188.372216 49.460825 \r\nL 194.459489 49.154032 \r\nL 200.546761 38.723048 \r\nL 206.634034 31.36 \r\nL 212.721307 17.554286 \r\nL 218.80858 46.699683 \r\nL 224.895852 41.177397 \r\nL 230.983125 67.254857 \r\nL 237.070398 76.151873 \r\nL 243.15767 102.229333 \r\nL 249.244943 120.636952 \r\nL 255.332216 133.215492 \r\nL 261.419489 155.304635 \r\nL 267.506761 167.576381 \r\nL 273.594034 180.768508 \r\nL 279.681307 192.73346 \r\nL 285.76858 201.93727 \r\nL 291.855852 212.06146 \r\nL 297.943125 214.51581 \r\nL 304.030398 215.43619 \r\nL 310.11767 217.89054 \r\nL 316.204943 222.492444 \r\nL 322.292216 220.651683 \r\nL 328.379489 222.799238 \r\nL 334.466761 223.719619 \r\nL 340.554034 224.333206 \r\nL 346.641307 224.026413 \r\n\" style=\"fill:none;stroke:#ff7f0e;stroke-linecap:square;stroke-width:1.5;\"/>\r\n   </g>\r\n   <g id=\"patch_53\">\r\n    <path d=\"M 30.103125 224.64 \r\nL 30.103125 7.2 \r\n\" style=\"fill:none;stroke:#000000;stroke-linecap:square;stroke-linejoin:miter;stroke-width:0.8;\"/>\r\n   </g>\r\n   <g id=\"patch_54\">\r\n    <path d=\"M 364.903125 224.64 \r\nL 364.903125 7.2 \r\n\" style=\"fill:none;stroke:#000000;stroke-linecap:square;stroke-linejoin:miter;stroke-width:0.8;\"/>\r\n   </g>\r\n   <g id=\"patch_55\">\r\n    <path d=\"M 30.103125 224.64 \r\nL 364.903125 224.64 \r\n\" style=\"fill:none;stroke:#000000;stroke-linecap:square;stroke-linejoin:miter;stroke-width:0.8;\"/>\r\n   </g>\r\n   <g id=\"patch_56\">\r\n    <path d=\"M 30.103125 7.2 \r\nL 364.903125 7.2 \r\n\" style=\"fill:none;stroke:#000000;stroke-linecap:square;stroke-linejoin:miter;stroke-width:0.8;\"/>\r\n   </g>\r\n  </g>\r\n </g>\r\n <defs>\r\n  <clipPath id=\"p219e6546a4\">\r\n   <rect height=\"217.44\" width=\"334.8\" x=\"30.103125\" y=\"7.2\"/>\r\n  </clipPath>\r\n </defs>\r\n</svg>\r\n",
      "text/plain": "<Figure size 432x288 with 1 Axes>"
     },
     "metadata": {
      "needs_background": "light"
     },
     "output_type": "display_data"
    }
   ],
   "source": [
    "plt.hist(v, bins = 50, density=1)\n",
    "plt.plot((bins[1:] + bins[:-1])/2, n)"
   ]
  },
  {
   "cell_type": "markdown",
   "execution_count": null,
   "metadata": {},
   "outputs": [],
   "source": [
    "## Indexing with Boolean Arrays"
   ]
  },
  {
   "cell_type": "code",
   "execution_count": 2,
   "metadata": {},
   "outputs": [],
   "source": [
    "import numpy as np\n",
    "import matplotlib.pyplot as plt\n",
    "\n",
    "def mandelbrot( h, w, maxit = 20 ):\n",
    "     \"\"\"Returns an image of the Mandelbrot fractal of size (h,w).\"\"\"\n",
    "     y, x = np.ogrid[ -1.4:1.4:h*1j, -2:0.8:w*1j ]\n",
    "     c = x + y*1j\n",
    "     z = c\n",
    "     divtime = maxit + np.zeros(z.shape, dtype=int)\n",
    "\n",
    "     for i in range(maxit):\n",
    "         z = z**2 + c\n",
    "         diverge = z*np.conj(z) > 2**2            # who is diverging\n",
    "         div_now = diverge & (divtime==maxit)  # who is diverging now\n",
    "         divtime[div_now] = i                  # note when\n",
    "         z[diverge] = 2                        # avoid diverging too much\n",
    "\n",
    "     return divtime"
   ]
  },
  {
   "cell_type": "code",
   "execution_count": 6,
   "metadata": {},
   "outputs": [
    {
     "data": {
      "text/plain": "<matplotlib.image.AxesImage at 0x18d83019c08>"
     },
     "execution_count": 6,
     "metadata": {},
     "output_type": "execute_result"
    },
    {
     "data": {
      "image/png": "[encoded data removed]",
      "image/svg+xml": "<?xml version=\"1.0\" encoding=\"utf-8\" standalone=\"no\"?>\r\n<!DOCTYPE svg PUBLIC \"-//W3C//DTD SVG 1.1//EN\"\r\n  \"http://www.w3.org/Graphics/SVG/1.1/DTD/svg11.dtd\">\r\n<!-- Created with matplotlib (https://matplotlib.org/) -->\r\n<svg height=\"252.290164pt\" version=\"1.1\" viewBox=\"0 0 264.29 252.290164\" width=\"264.29pt\" xmlns=\"http://www.w3.org/2000/svg\" xmlns:xlink=\"http://www.w3.org/1999/xlink\">\r\n <defs>\r\n  <style type=\"text/css\">\r\n*{stroke-linecap:butt;stroke-linejoin:round;}\r\n  </style>\r\n </defs>\r\n <g id=\"figure_1\">\r\n  <g id=\"patch_1\">\r\n   <path d=\"M 0 252.290164 \r\nL 264.29 252.290164 \r\nL 264.29 0 \r\nL 0 0 \r\nz\r\n\" style=\"fill:none;\"/>\r\n  </g>\r\n  <g id=\"axes_1\">\r\n   <g id=\"patch_2\">\r\n    <path d=\"M 39.65 228.412039 \r\nL 257.09 228.412039 \r\nL 257.09 10.972039 \r\nL 39.65 10.972039 \r\nz\r\n\" style=\"fill:#ffffff;\"/>\r\n   </g>\r\n   <g clip-path=\"url(#pd566957672)\">\r\n    <image height=\"218\" id=\"image490dacdf18\" transform=\"scale(1 -1)translate(0 -218)\" width=\"218\" x=\"39.65\" xlink:href=\"data:image/png;base64,\r\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\" y=\"-10.412039\"/>\r\n   </g>\r\n   <g id=\"matplotlib.axis_1\">\r\n    <g id=\"xtick_1\">\r\n     <g id=\"line2d_1\">\r\n      <defs>\r\n       <path d=\"M 0 0 \r\nL 0 3.5 \r\n\" id=\"m4bedda53df\" style=\"stroke:#000000;stroke-width:0.8;\"/>\r\n      </defs>\r\n      <g>\r\n       <use style=\"stroke:#000000;stroke-width:0.8;\" x=\"39.67718\" xlink:href=\"#m4bedda53df\" y=\"228.412039\"/>\r\n      </g>\r\n     </g>\r\n     <g id=\"text_1\">\r\n      <!-- 0 -->\r\n      <defs>\r\n       <path d=\"M 31.78125 66.40625 \r\nQ 24.171875 66.40625 20.328125 58.90625 \r\nQ 16.5 51.421875 16.5 36.375 \r\nQ 16.5 21.390625 20.328125 13.890625 \r\nQ 24.171875 6.390625 31.78125 6.390625 \r\nQ 39.453125 6.390625 43.28125 13.890625 \r\nQ 47.125 21.390625 47.125 36.375 \r\nQ 47.125 51.421875 43.28125 58.90625 \r\nQ 39.453125 66.40625 31.78125 66.40625 \r\nz\r\nM 31.78125 74.21875 \r\nQ 44.046875 74.21875 50.515625 64.515625 \r\nQ 56.984375 54.828125 56.984375 36.375 \r\nQ 56.984375 17.96875 50.515625 8.265625 \r\nQ 44.046875 -1.421875 31.78125 -1.421875 \r\nQ 19.53125 -1.421875 13.0625 8.265625 \r\nQ 6.59375 17.96875 6.59375 36.375 \r\nQ 6.59375 54.828125 13.0625 64.515625 \r\nQ 19.53125 74.21875 31.78125 74.21875 \r\nz\r\n\" id=\"DejaVuSans-48\"/>\r\n      </defs>\r\n      <g transform=\"translate(36.49593 243.010476)scale(0.1 -0.1)\">\r\n       <use xlink:href=\"#DejaVuSans-48\"/>\r\n      </g>\r\n     </g>\r\n    </g>\r\n    <g id=\"xtick_2\">\r\n     <g id=\"line2d_2\">\r\n      <g>\r\n       <use style=\"stroke:#000000;stroke-width:0.8;\" x=\"94.03718\" xlink:href=\"#m4bedda53df\" y=\"228.412039\"/>\r\n      </g>\r\n     </g>\r\n     <g id=\"text_2\">\r\n      <!-- 1000 -->\r\n      <defs>\r\n       <path d=\"M 12.40625 8.296875 \r\nL 28.515625 8.296875 \r\nL 28.515625 63.921875 \r\nL 10.984375 60.40625 \r\nL 10.984375 69.390625 \r\nL 28.421875 72.90625 \r\nL 38.28125 72.90625 \r\nL 38.28125 8.296875 \r\nL 54.390625 8.296875 \r\nL 54.390625 0 \r\nL 12.40625 0 \r\nz\r\n\" id=\"DejaVuSans-49\"/>\r\n      </defs>\r\n      <g transform=\"translate(81.31218 243.010476)scale(0.1 -0.1)\">\r\n       <use xlink:href=\"#DejaVuSans-49\"/>\r\n       <use x=\"63.623047\" xlink:href=\"#DejaVuSans-48\"/>\r\n       <use x=\"127.246094\" xlink:href=\"#DejaVuSans-48\"/>\r\n       <use x=\"190.869141\" xlink:href=\"#DejaVuSans-48\"/>\r\n      </g>\r\n     </g>\r\n    </g>\r\n    <g id=\"xtick_3\">\r\n     <g id=\"line2d_3\">\r\n      <g>\r\n       <use style=\"stroke:#000000;stroke-width:0.8;\" x=\"148.39718\" xlink:href=\"#m4bedda53df\" y=\"228.412039\"/>\r\n      </g>\r\n     </g>\r\n     <g id=\"text_3\">\r\n      <!-- 2000 -->\r\n      <defs>\r\n       <path d=\"M 19.1875 8.296875 \r\nL 53.609375 8.296875 \r\nL 53.609375 0 \r\nL 7.328125 0 \r\nL 7.328125 8.296875 \r\nQ 12.9375 14.109375 22.625 23.890625 \r\nQ 32.328125 33.6875 34.8125 36.53125 \r\nQ 39.546875 41.84375 41.421875 45.53125 \r\nQ 43.3125 49.21875 43.3125 52.78125 \r\nQ 43.3125 58.59375 39.234375 62.25 \r\nQ 35.15625 65.921875 28.609375 65.921875 \r\nQ 23.96875 65.921875 18.8125 64.3125 \r\nQ 13.671875 62.703125 7.8125 59.421875 \r\nL 7.8125 69.390625 \r\nQ 13.765625 71.78125 18.9375 73 \r\nQ 24.125 74.21875 28.421875 74.21875 \r\nQ 39.75 74.21875 46.484375 68.546875 \r\nQ 53.21875 62.890625 53.21875 53.421875 \r\nQ 53.21875 48.921875 51.53125 44.890625 \r\nQ 49.859375 40.875 45.40625 35.40625 \r\nQ 44.1875 33.984375 37.640625 27.21875 \r\nQ 31.109375 20.453125 19.1875 8.296875 \r\nz\r\n\" id=\"DejaVuSans-50\"/>\r\n      </defs>\r\n      <g transform=\"translate(135.67218 243.010476)scale(0.1 -0.1)\">\r\n       <use xlink:href=\"#DejaVuSans-50\"/>\r\n       <use x=\"63.623047\" xlink:href=\"#DejaVuSans-48\"/>\r\n       <use x=\"127.246094\" xlink:href=\"#DejaVuSans-48\"/>\r\n       <use x=\"190.869141\" xlink:href=\"#DejaVuSans-48\"/>\r\n      </g>\r\n     </g>\r\n    </g>\r\n    <g id=\"xtick_4\">\r\n     <g id=\"line2d_4\">\r\n      <g>\r\n       <use style=\"stroke:#000000;stroke-width:0.8;\" x=\"202.75718\" xlink:href=\"#m4bedda53df\" y=\"228.412039\"/>\r\n      </g>\r\n     </g>\r\n     <g id=\"text_4\">\r\n      <!-- 3000 -->\r\n      <defs>\r\n       <path d=\"M 40.578125 39.3125 \r\nQ 47.65625 37.796875 51.625 33 \r\nQ 55.609375 28.21875 55.609375 21.1875 \r\nQ 55.609375 10.40625 48.1875 4.484375 \r\nQ 40.765625 -1.421875 27.09375 -1.421875 \r\nQ 22.515625 -1.421875 17.65625 -0.515625 \r\nQ 12.796875 0.390625 7.625 2.203125 \r\nL 7.625 11.71875 \r\nQ 11.71875 9.328125 16.59375 8.109375 \r\nQ 21.484375 6.890625 26.8125 6.890625 \r\nQ 36.078125 6.890625 40.9375 10.546875 \r\nQ 45.796875 14.203125 45.796875 21.1875 \r\nQ 45.796875 27.640625 41.28125 31.265625 \r\nQ 36.765625 34.90625 28.71875 34.90625 \r\nL 20.21875 34.90625 \r\nL 20.21875 43.015625 \r\nL 29.109375 43.015625 \r\nQ 36.375 43.015625 40.234375 45.921875 \r\nQ 44.09375 48.828125 44.09375 54.296875 \r\nQ 44.09375 59.90625 40.109375 62.90625 \r\nQ 36.140625 65.921875 28.71875 65.921875 \r\nQ 24.65625 65.921875 20.015625 65.03125 \r\nQ 15.375 64.15625 9.8125 62.3125 \r\nL 9.8125 71.09375 \r\nQ 15.4375 72.65625 20.34375 73.4375 \r\nQ 25.25 74.21875 29.59375 74.21875 \r\nQ 40.828125 74.21875 47.359375 69.109375 \r\nQ 53.90625 64.015625 53.90625 55.328125 \r\nQ 53.90625 49.265625 50.4375 45.09375 \r\nQ 46.96875 40.921875 40.578125 39.3125 \r\nz\r\n\" id=\"DejaVuSans-51\"/>\r\n      </defs>\r\n      <g transform=\"translate(190.03218 243.010476)scale(0.1 -0.1)\">\r\n       <use xlink:href=\"#DejaVuSans-51\"/>\r\n       <use x=\"63.623047\" xlink:href=\"#DejaVuSans-48\"/>\r\n       <use x=\"127.246094\" xlink:href=\"#DejaVuSans-48\"/>\r\n       <use x=\"190.869141\" xlink:href=\"#DejaVuSans-48\"/>\r\n      </g>\r\n     </g>\r\n    </g>\r\n   </g>\r\n   <g id=\"matplotlib.axis_2\">\r\n    <g id=\"ytick_1\">\r\n     <g id=\"line2d_5\">\r\n      <defs>\r\n       <path d=\"M 0 0 \r\nL -3.5 0 \r\n\" id=\"m37c4f8aa30\" style=\"stroke:#000000;stroke-width:0.8;\"/>\r\n      </defs>\r\n      <g>\r\n       <use style=\"stroke:#000000;stroke-width:0.8;\" x=\"39.65\" xlink:href=\"#m37c4f8aa30\" y=\"10.999219\"/>\r\n      </g>\r\n     </g>\r\n     <g id=\"text_5\">\r\n      <!-- 0 -->\r\n      <g transform=\"translate(26.2875 14.798437)scale(0.1 -0.1)\">\r\n       <use xlink:href=\"#DejaVuSans-48\"/>\r\n      </g>\r\n     </g>\r\n    </g>\r\n    <g id=\"ytick_2\">\r\n     <g id=\"line2d_6\">\r\n      <g>\r\n       <use style=\"stroke:#000000;stroke-width:0.8;\" x=\"39.65\" xlink:href=\"#m37c4f8aa30\" y=\"38.179219\"/>\r\n      </g>\r\n     </g>\r\n     <g id=\"text_6\">\r\n      <!-- 500 -->\r\n      <defs>\r\n       <path d=\"M 10.796875 72.90625 \r\nL 49.515625 72.90625 \r\nL 49.515625 64.59375 \r\nL 19.828125 64.59375 \r\nL 19.828125 46.734375 \r\nQ 21.96875 47.46875 24.109375 47.828125 \r\nQ 26.265625 48.1875 28.421875 48.1875 \r\nQ 40.625 48.1875 47.75 41.5 \r\nQ 54.890625 34.8125 54.890625 23.390625 \r\nQ 54.890625 11.625 47.5625 5.09375 \r\nQ 40.234375 -1.421875 26.90625 -1.421875 \r\nQ 22.3125 -1.421875 17.546875 -0.640625 \r\nQ 12.796875 0.140625 7.71875 1.703125 \r\nL 7.71875 11.625 \r\nQ 12.109375 9.234375 16.796875 8.0625 \r\nQ 21.484375 6.890625 26.703125 6.890625 \r\nQ 35.15625 6.890625 40.078125 11.328125 \r\nQ 45.015625 15.765625 45.015625 23.390625 \r\nQ 45.015625 31 40.078125 35.4375 \r\nQ 35.15625 39.890625 26.703125 39.890625 \r\nQ 22.75 39.890625 18.8125 39.015625 \r\nQ 14.890625 38.140625 10.796875 36.28125 \r\nz\r\n\" id=\"DejaVuSans-53\"/>\r\n      </defs>\r\n      <g transform=\"translate(13.5625 41.978437)scale(0.1 -0.1)\">\r\n       <use xlink:href=\"#DejaVuSans-53\"/>\r\n       <use x=\"63.623047\" xlink:href=\"#DejaVuSans-48\"/>\r\n       <use x=\"127.246094\" xlink:href=\"#DejaVuSans-48\"/>\r\n      </g>\r\n     </g>\r\n    </g>\r\n    <g id=\"ytick_3\">\r\n     <g id=\"line2d_7\">\r\n      <g>\r\n       <use style=\"stroke:#000000;stroke-width:0.8;\" x=\"39.65\" xlink:href=\"#m37c4f8aa30\" y=\"65.359219\"/>\r\n      </g>\r\n     </g>\r\n     <g id=\"text_7\">\r\n      <!-- 1000 -->\r\n      <g transform=\"translate(7.2 69.158437)scale(0.1 -0.1)\">\r\n       <use xlink:href=\"#DejaVuSans-49\"/>\r\n       <use x=\"63.623047\" xlink:href=\"#DejaVuSans-48\"/>\r\n       <use x=\"127.246094\" xlink:href=\"#DejaVuSans-48\"/>\r\n       <use x=\"190.869141\" xlink:href=\"#DejaVuSans-48\"/>\r\n      </g>\r\n     </g>\r\n    </g>\r\n    <g id=\"ytick_4\">\r\n     <g id=\"line2d_8\">\r\n      <g>\r\n       <use style=\"stroke:#000000;stroke-width:0.8;\" x=\"39.65\" xlink:href=\"#m37c4f8aa30\" y=\"92.539219\"/>\r\n      </g>\r\n     </g>\r\n     <g id=\"text_8\">\r\n      <!-- 1500 -->\r\n      <g transform=\"translate(7.2 96.338437)scale(0.1 -0.1)\">\r\n       <use xlink:href=\"#DejaVuSans-49\"/>\r\n       <use x=\"63.623047\" xlink:href=\"#DejaVuSans-53\"/>\r\n       <use x=\"127.246094\" xlink:href=\"#DejaVuSans-48\"/>\r\n       <use x=\"190.869141\" xlink:href=\"#DejaVuSans-48\"/>\r\n      </g>\r\n     </g>\r\n    </g>\r\n    <g id=\"ytick_5\">\r\n     <g id=\"line2d_9\">\r\n      <g>\r\n       <use style=\"stroke:#000000;stroke-width:0.8;\" x=\"39.65\" xlink:href=\"#m37c4f8aa30\" y=\"119.719219\"/>\r\n      </g>\r\n     </g>\r\n     <g id=\"text_9\">\r\n      <!-- 2000 -->\r\n      <g transform=\"translate(7.2 123.518437)scale(0.1 -0.1)\">\r\n       <use xlink:href=\"#DejaVuSans-50\"/>\r\n       <use x=\"63.623047\" xlink:href=\"#DejaVuSans-48\"/>\r\n       <use x=\"127.246094\" xlink:href=\"#DejaVuSans-48\"/>\r\n       <use x=\"190.869141\" xlink:href=\"#DejaVuSans-48\"/>\r\n      </g>\r\n     </g>\r\n    </g>\r\n    <g id=\"ytick_6\">\r\n     <g id=\"line2d_10\">\r\n      <g>\r\n       <use style=\"stroke:#000000;stroke-width:0.8;\" x=\"39.65\" xlink:href=\"#m37c4f8aa30\" y=\"146.899219\"/>\r\n      </g>\r\n     </g>\r\n     <g id=\"text_10\">\r\n      <!-- 2500 -->\r\n      <g transform=\"translate(7.2 150.698437)scale(0.1 -0.1)\">\r\n       <use xlink:href=\"#DejaVuSans-50\"/>\r\n       <use x=\"63.623047\" xlink:href=\"#DejaVuSans-53\"/>\r\n       <use x=\"127.246094\" xlink:href=\"#DejaVuSans-48\"/>\r\n       <use x=\"190.869141\" xlink:href=\"#DejaVuSans-48\"/>\r\n      </g>\r\n     </g>\r\n    </g>\r\n    <g id=\"ytick_7\">\r\n     <g id=\"line2d_11\">\r\n      <g>\r\n       <use style=\"stroke:#000000;stroke-width:0.8;\" x=\"39.65\" xlink:href=\"#m37c4f8aa30\" y=\"174.079219\"/>\r\n      </g>\r\n     </g>\r\n     <g id=\"text_11\">\r\n      <!-- 3000 -->\r\n      <g transform=\"translate(7.2 177.878437)scale(0.1 -0.1)\">\r\n       <use xlink:href=\"#DejaVuSans-51\"/>\r\n       <use x=\"63.623047\" xlink:href=\"#DejaVuSans-48\"/>\r\n       <use x=\"127.246094\" xlink:href=\"#DejaVuSans-48\"/>\r\n       <use x=\"190.869141\" xlink:href=\"#DejaVuSans-48\"/>\r\n      </g>\r\n     </g>\r\n    </g>\r\n    <g id=\"ytick_8\">\r\n     <g id=\"line2d_12\">\r\n      <g>\r\n       <use style=\"stroke:#000000;stroke-width:0.8;\" x=\"39.65\" xlink:href=\"#m37c4f8aa30\" y=\"201.259219\"/>\r\n      </g>\r\n     </g>\r\n     <g id=\"text_12\">\r\n      <!-- 3500 -->\r\n      <g transform=\"translate(7.2 205.058437)scale(0.1 -0.1)\">\r\n       <use xlink:href=\"#DejaVuSans-51\"/>\r\n       <use x=\"63.623047\" xlink:href=\"#DejaVuSans-53\"/>\r\n       <use x=\"127.246094\" xlink:href=\"#DejaVuSans-48\"/>\r\n       <use x=\"190.869141\" xlink:href=\"#DejaVuSans-48\"/>\r\n      </g>\r\n     </g>\r\n    </g>\r\n   </g>\r\n   <g id=\"patch_3\">\r\n    <path d=\"M 39.65 228.412039 \r\nL 39.65 10.972039 \r\n\" style=\"fill:none;stroke:#000000;stroke-linecap:square;stroke-linejoin:miter;stroke-width:0.8;\"/>\r\n   </g>\r\n   <g id=\"patch_4\">\r\n    <path d=\"M 257.09 228.412039 \r\nL 257.09 10.972039 \r\n\" style=\"fill:none;stroke:#000000;stroke-linecap:square;stroke-linejoin:miter;stroke-width:0.8;\"/>\r\n   </g>\r\n   <g id=\"patch_5\">\r\n    <path d=\"M 39.65 228.412039 \r\nL 257.09 228.412039 \r\n\" style=\"fill:none;stroke:#000000;stroke-linecap:square;stroke-linejoin:miter;stroke-width:0.8;\"/>\r\n   </g>\r\n   <g id=\"patch_6\">\r\n    <path d=\"M 39.65 10.972039 \r\nL 257.09 10.972039 \r\n\" style=\"fill:none;stroke:#000000;stroke-linecap:square;stroke-linejoin:miter;stroke-width:0.8;\"/>\r\n   </g>\r\n  </g>\r\n </g>\r\n <defs>\r\n  <clipPath id=\"pd566957672\">\r\n   <rect height=\"217.44\" width=\"217.44\" x=\"39.65\" y=\"10.972039\"/>\r\n  </clipPath>\r\n </defs>\r\n</svg>\r\n",
      "text/plain": "<Figure size 432x288 with 1 Axes>"
     },
     "metadata": {
      "needs_background": "light"
     },
     "output_type": "display_data"
    }
   ],
   "source": [
    "plt.imshow(mandelbrot(400, 400))"
   ]
  },
  {
   "cell_type": "code",
   "execution_count": 8,
   "metadata": {},
   "outputs": [],
   "source": [
    "x, y = np.ogrid[ -1.4:1.4:10*1j, -2:0.8:10*1j ]"
   ]
  },
  {
   "cell_type": "code",
   "execution_count": 14,
   "metadata": {},
   "outputs": [
    {
     "data": {
      "text/plain": "(10, 1)"
     },
     "execution_count": 14,
     "metadata": {},
     "output_type": "execute_result"
    }
   ],
   "source": [
    "x.shape"
   ]
  },
  {
   "cell_type": "code",
   "execution_count": 13,
   "metadata": {},
   "outputs": [
    {
     "data": {
      "text/plain": "(1, 10)"
     },
     "execution_count": 13,
     "metadata": {},
     "output_type": "execute_result"
    }
   ],
   "source": [
    "y.shape"
   ]
  },
  {
   "cell_type": "code",
   "execution_count": 18,
   "metadata": {},
   "outputs": [
    {
     "data": {
      "text/plain": "array([[2, 3, 4, 5],\n       [3, 4, 5, 6],\n       [4, 5, 6, 7],\n       [5, 6, 7, 8]])"
     },
     "execution_count": 18,
     "metadata": {},
     "output_type": "execute_result"
    }
   ],
   "source": [
    "np.array([1,2,3,4]).reshape((4, 1)) + np.array([1,2,3,4])"
   ]
  },
  {
   "cell_type": "markdown",
   "execution_count": null,
   "metadata": {},
   "outputs": [],
   "source": [
    "## Linear Algebra"
   ]
  },
  {
   "cell_type": "code",
   "execution_count": 19,
   "metadata": {},
   "outputs": [],
   "source": [
    "a = np.array([[1.0, 2.0], [3.0, 4.0]])"
   ]
  },
  {
   "cell_type": "code",
   "execution_count": 22,
   "metadata": {},
   "outputs": [
    {
     "name": "stdout",
     "output_type": "stream",
     "text": "[[1. 2.]\n [3. 4.]]\n"
    }
   ],
   "source": [
    "print(a)"
   ]
  },
  {
   "cell_type": "code",
   "execution_count": 23,
   "metadata": {},
   "outputs": [
    {
     "data": {
      "text/plain": "array([[1., 3.],\n       [2., 4.]])"
     },
     "execution_count": 23,
     "metadata": {},
     "output_type": "execute_result"
    }
   ],
   "source": [
    "a.transpose()"
   ]
  },
  {
   "cell_type": "code",
   "execution_count": 24,
   "metadata": {},
   "outputs": [
    {
     "data": {
      "text/plain": "b'\\x00\\x00\\x00\\x00\\x00\\x00\\xf0?\\x00\\x00\\x00\\x00\\x00\\x00\\x00@\\x00\\x00\\x00\\x00\\x00\\x00\\x08@\\x00\\x00\\x00\\x00\\x00\\x00\\x10@'"
     },
     "execution_count": 24,
     "metadata": {},
     "output_type": "execute_result"
    }
   ],
   "source": [
    "a.tostring()"
   ]
  },
  {
   "cell_type": "code",
   "execution_count": 25,
   "metadata": {},
   "outputs": [
    {
     "data": {
      "text/plain": "array([[-2. ,  1. ],\n       [ 1.5, -0.5]])"
     },
     "execution_count": 25,
     "metadata": {},
     "output_type": "execute_result"
    }
   ],
   "source": [
    "np.linalg.inv(a)"
   ]
  },
  {
   "cell_type": "code",
   "execution_count": 27,
   "metadata": {},
   "outputs": [
    {
     "data": {
      "text/plain": "array([[1., 0.],\n       [0., 1.]])"
     },
     "execution_count": 27,
     "metadata": {},
     "output_type": "execute_result"
    }
   ],
   "source": [
    "np.eye(2)"
   ]
  },
  {
   "cell_type": "code",
   "execution_count": 28,
   "metadata": {},
   "outputs": [
    {
     "data": {
      "text/plain": "5.0"
     },
     "execution_count": 28,
     "metadata": {},
     "output_type": "execute_result"
    }
   ],
   "source": [
    "a.trace()"
   ]
  },
  {
   "cell_type": "code",
   "execution_count": 29,
   "metadata": {},
   "outputs": [],
   "source": [
    "y = np.array([[5.], [7.]])"
   ]
  },
  {
   "cell_type": "code",
   "execution_count": 30,
   "metadata": {},
   "outputs": [
    {
     "data": {
      "text/plain": "array([[-3.],\n       [ 4.]])"
     },
     "execution_count": 30,
     "metadata": {},
     "output_type": "execute_result"
    }
   ],
   "source": [
    "np.linalg.solve(a, y)"
   ]
  },
  {
   "cell_type": "code",
   "execution_count": 31,
   "metadata": {},
   "outputs": [
    {
     "data": {
      "text/plain": "(array([-0.37228132,  5.37228132]), array([[-0.82456484, -0.41597356],\n        [ 0.56576746, -0.90937671]]))"
     },
     "execution_count": 31,
     "metadata": {},
     "output_type": "execute_result"
    }
   ],
   "source": [
    "np.linalg.eig(a)"
   ]
  },
  {
   "cell_type": "code",
   "execution_count": 32,
   "metadata": {},
   "outputs": [
    {
     "data": {
      "text/plain": "  C_CONTIGUOUS : True\n  F_CONTIGUOUS : False\n  OWNDATA : True\n  WRITEABLE : True\n  ALIGNED : True\n  WRITEBACKIFCOPY : False\n  UPDATEIFCOPY : False"
     },
     "execution_count": 32,
     "metadata": {},
     "output_type": "execute_result"
    }
   ],
   "source": [
    "a.flags"
   ]
  },
  {
   "cell_type": "code",
   "execution_count": 34,
   "metadata": {},
   "outputs": [
    {
     "data": {
      "text/plain": "(16, 8)"
     },
     "execution_count": 34,
     "metadata": {},
     "output_type": "execute_result"
    }
   ],
   "source": [
    "a.strides"
   ]
  },
  {
   "cell_type": "code",
   "execution_count": 35,
   "metadata": {},
   "outputs": [
    {
     "data": {
      "text/plain": "b'\\x80\\x02cnumpy.core.multiarray\\n_reconstruct\\nq\\x00cnumpy\\nndarray\\nq\\x01K\\x00\\x85q\\x02c_codecs\\nencode\\nq\\x03X\\x01\\x00\\x00\\x00bq\\x04X\\x06\\x00\\x00\\x00latin1q\\x05\\x86q\\x06Rq\\x07\\x87q\\x08Rq\\t(K\\x01K\\x02K\\x02\\x86q\\ncnumpy\\ndtype\\nq\\x0bX\\x02\\x00\\x00\\x00f8q\\x0cK\\x00K\\x01\\x87q\\rRq\\x0e(K\\x03X\\x01\\x00\\x00\\x00<q\\x0fNNNJ\\xff\\xff\\xff\\xffJ\\xff\\xff\\xff\\xffK\\x00tq\\x10b\\x89h\\x03X!\\x00\\x00\\x00\\x00\\x00\\x00\\x00\\x00\\x00\\xc3\\xb0?\\x00\\x00\\x00\\x00\\x00\\x00\\x00@\\x00\\x00\\x00\\x00\\x00\\x00\\x08@\\x00\\x00\\x00\\x00\\x00\\x00\\x10@q\\x11h\\x05\\x86q\\x12Rq\\x13tq\\x14b.'"
     },
     "execution_count": 35,
     "metadata": {},
     "output_type": "execute_result"
    }
   ],
   "source": [
    "a.dumps()"
   ]
  },
  {
   "cell_type": "code",
   "execution_count": 41,
   "metadata": {},
   "outputs": [
    {
     "data": {
      "text/plain": "array([2., 2.])"
     },
     "execution_count": 41,
     "metadata": {},
     "output_type": "execute_result"
    }
   ],
   "source": [
    "a.ptp(0)"
   ]
  },
  {
   "cell_type": "code",
   "execution_count": 38,
   "metadata": {},
   "outputs": [
    {
     "name": "stdout",
     "output_type": "stream",
     "text": "[[1. 2.]\n [3. 4.]]\n"
    }
   ],
   "source": [
    "print(a)"
   ]
  },
  {
   "cell_type": "markdown",
   "execution_count": null,
   "metadata": {},
   "outputs": [],
   "source": [
    "## Рутини\n",
    "\n",
    "продовжити звідси [рутини](https://numpy.org/devdocs/reference/routines.html)"
   ]
  },
  {
   "cell_type": "code",
   "execution_count": null,
   "metadata": {},
   "outputs": [],
   "source": []
  }
 ]
}